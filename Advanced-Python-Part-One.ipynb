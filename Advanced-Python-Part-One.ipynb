{
 "cells": [
  {
   "cell_type": "code",
   "execution_count": 1,
   "id": "79c19519-c470-42b8-9b30-c1db1829c50a",
   "metadata": {
    "execution": {
     "iopub.execute_input": "2024-09-10T09:37:16.878312Z",
     "iopub.status.busy": "2024-09-10T09:37:16.877335Z",
     "iopub.status.idle": "2024-09-10T09:37:16.885897Z",
     "shell.execute_reply": "2024-09-10T09:37:16.884884Z",
     "shell.execute_reply.started": "2024-09-10T09:37:16.878312Z"
    }
   },
   "outputs": [],
   "source": [
    "companies = [\"Microsoft\", \"Apple\", \"Tesla\", \"Nvidia\"]\n",
    "products = [\"Windows\", \"Iphone\", \"Electric Car\", \"Gpu\"]"
   ]
  },
  {
   "cell_type": "code",
   "execution_count": 2,
   "id": "15b706ba-3d0b-42c3-bf9c-b2f353fd242c",
   "metadata": {
    "execution": {
     "iopub.execute_input": "2024-09-10T09:37:40.427477Z",
     "iopub.status.busy": "2024-09-10T09:37:40.427477Z",
     "iopub.status.idle": "2024-09-10T09:37:40.435231Z",
     "shell.execute_reply": "2024-09-10T09:37:40.433200Z",
     "shell.execute_reply.started": "2024-09-10T09:37:40.427477Z"
    }
   },
   "outputs": [],
   "source": [
    "companies_and_products = zip(companies, products)"
   ]
  },
  {
   "cell_type": "code",
   "execution_count": 3,
   "id": "9dbc5190-65ff-410b-a722-4104d0d4fdcd",
   "metadata": {
    "execution": {
     "iopub.execute_input": "2024-09-10T09:37:47.859975Z",
     "iopub.status.busy": "2024-09-10T09:37:47.858972Z",
     "iopub.status.idle": "2024-09-10T09:37:47.872332Z",
     "shell.execute_reply": "2024-09-10T09:37:47.871307Z",
     "shell.execute_reply.started": "2024-09-10T09:37:47.859975Z"
    }
   },
   "outputs": [
    {
     "data": {
      "text/plain": [
       "<zip at 0x2315e784d80>"
      ]
     },
     "execution_count": 3,
     "metadata": {},
     "output_type": "execute_result"
    }
   ],
   "source": [
    "companies_and_products"
   ]
  },
  {
   "cell_type": "code",
   "execution_count": 4,
   "id": "8436b18e-310a-4349-9eda-02dc172b3f36",
   "metadata": {
    "execution": {
     "iopub.execute_input": "2024-09-10T09:37:59.161031Z",
     "iopub.status.busy": "2024-09-10T09:37:59.160033Z",
     "iopub.status.idle": "2024-09-10T09:37:59.171024Z",
     "shell.execute_reply": "2024-09-10T09:37:59.168979Z",
     "shell.execute_reply.started": "2024-09-10T09:37:59.161031Z"
    }
   },
   "outputs": [
    {
     "data": {
      "text/plain": [
       "[('Microsoft', 'Windows'),\n",
       " ('Apple', 'Iphone'),\n",
       " ('Tesla', 'Electric Car'),\n",
       " ('Nvidia', 'Gpu')]"
      ]
     },
     "execution_count": 4,
     "metadata": {},
     "output_type": "execute_result"
    }
   ],
   "source": [
    "list(companies_and_products)"
   ]
  },
  {
   "cell_type": "code",
   "execution_count": 5,
   "id": "d4a95676-8c22-4165-8625-31122c5941ea",
   "metadata": {
    "execution": {
     "iopub.execute_input": "2024-09-10T09:41:07.403470Z",
     "iopub.status.busy": "2024-09-10T09:41:07.402441Z",
     "iopub.status.idle": "2024-09-10T09:41:07.410689Z",
     "shell.execute_reply": "2024-09-10T09:41:07.409647Z",
     "shell.execute_reply.started": "2024-09-10T09:41:07.403470Z"
    }
   },
   "outputs": [],
   "source": [
    "countries = [\"England\", \"France\", \"Germany\", \"Spain\"]\n",
    "capitals = [\"London\", \"Paris\", \"Berlin\", \"Madrid\"]\n",
    "places = [\"Big Ben\", \"Eiffel Tower\", \"Reichtag Building\", \"Royal Palace\"]"
   ]
  },
  {
   "cell_type": "code",
   "execution_count": 6,
   "id": "3b844586-32ef-4b1d-ae13-c1492e3047c3",
   "metadata": {
    "execution": {
     "iopub.execute_input": "2024-09-10T09:41:27.258368Z",
     "iopub.status.busy": "2024-09-10T09:41:27.257366Z",
     "iopub.status.idle": "2024-09-10T09:41:27.266193Z",
     "shell.execute_reply": "2024-09-10T09:41:27.264201Z",
     "shell.execute_reply.started": "2024-09-10T09:41:27.258368Z"
    }
   },
   "outputs": [],
   "source": [
    "countries_capitals_places = zip(countries, capitals, places)"
   ]
  },
  {
   "cell_type": "code",
   "execution_count": 7,
   "id": "752e4b8b-b186-46c4-b77a-f254d65ea066",
   "metadata": {
    "execution": {
     "iopub.execute_input": "2024-09-10T09:41:31.993165Z",
     "iopub.status.busy": "2024-09-10T09:41:31.992162Z",
     "iopub.status.idle": "2024-09-10T09:41:32.002577Z",
     "shell.execute_reply": "2024-09-10T09:41:32.000553Z",
     "shell.execute_reply.started": "2024-09-10T09:41:31.993165Z"
    }
   },
   "outputs": [
    {
     "data": {
      "text/plain": [
       "<zip at 0x2315e757c00>"
      ]
     },
     "execution_count": 7,
     "metadata": {},
     "output_type": "execute_result"
    }
   ],
   "source": [
    "countries_capitals_places"
   ]
  },
  {
   "cell_type": "code",
   "execution_count": 8,
   "id": "467b105b-756a-461b-8666-be927485ce65",
   "metadata": {
    "execution": {
     "iopub.execute_input": "2024-09-10T09:41:44.314285Z",
     "iopub.status.busy": "2024-09-10T09:41:44.313293Z",
     "iopub.status.idle": "2024-09-10T09:41:44.323137Z",
     "shell.execute_reply": "2024-09-10T09:41:44.322095Z",
     "shell.execute_reply.started": "2024-09-10T09:41:44.314285Z"
    }
   },
   "outputs": [
    {
     "data": {
      "text/plain": [
       "[('England', 'London', 'Big Ben'),\n",
       " ('France', 'Paris', 'Eiffel Tower'),\n",
       " ('Germany', 'Berlin', 'Reichtag Building'),\n",
       " ('Spain', 'Madrid', 'Royal Palace')]"
      ]
     },
     "execution_count": 8,
     "metadata": {},
     "output_type": "execute_result"
    }
   ],
   "source": [
    "list(countries_capitals_places)"
   ]
  },
  {
   "cell_type": "code",
   "execution_count": 9,
   "id": "74e15851-8072-4f6a-9d0d-1995666bf0ea",
   "metadata": {
    "execution": {
     "iopub.execute_input": "2024-09-10T09:50:07.862772Z",
     "iopub.status.busy": "2024-09-10T09:50:07.861771Z",
     "iopub.status.idle": "2024-09-10T09:50:07.869713Z",
     "shell.execute_reply": "2024-09-10T09:50:07.868718Z",
     "shell.execute_reply.started": "2024-09-10T09:50:07.862772Z"
    }
   },
   "outputs": [],
   "source": [
    "city = \"Manchester\"\n",
    "club = \"Man City\"\n",
    "city_and_club = zip(city, club)"
   ]
  },
  {
   "cell_type": "code",
   "execution_count": 10,
   "id": "0bde377e-9bfa-41b6-96b6-5733dff95797",
   "metadata": {
    "execution": {
     "iopub.execute_input": "2024-09-10T09:50:12.450951Z",
     "iopub.status.busy": "2024-09-10T09:50:12.450951Z",
     "iopub.status.idle": "2024-09-10T09:50:12.461386Z",
     "shell.execute_reply": "2024-09-10T09:50:12.459364Z",
     "shell.execute_reply.started": "2024-09-10T09:50:12.450951Z"
    }
   },
   "outputs": [
    {
     "data": {
      "text/plain": [
       "<zip at 0x2315e741f00>"
      ]
     },
     "execution_count": 10,
     "metadata": {},
     "output_type": "execute_result"
    }
   ],
   "source": [
    "city_and_club"
   ]
  },
  {
   "cell_type": "code",
   "execution_count": 11,
   "id": "281ad104-511e-42e5-a05b-cbc33c55253a",
   "metadata": {
    "execution": {
     "iopub.execute_input": "2024-09-10T09:50:24.487010Z",
     "iopub.status.busy": "2024-09-10T09:50:24.486013Z",
     "iopub.status.idle": "2024-09-10T09:50:24.498614Z",
     "shell.execute_reply": "2024-09-10T09:50:24.496621Z",
     "shell.execute_reply.started": "2024-09-10T09:50:24.487010Z"
    }
   },
   "outputs": [
    {
     "data": {
      "text/plain": [
       "[('M', 'M'),\n",
       " ('a', 'a'),\n",
       " ('n', 'n'),\n",
       " ('c', ' '),\n",
       " ('h', 'C'),\n",
       " ('e', 'i'),\n",
       " ('s', 't'),\n",
       " ('t', 'y')]"
      ]
     },
     "execution_count": 11,
     "metadata": {},
     "output_type": "execute_result"
    }
   ],
   "source": [
    "list(city_and_club)"
   ]
  },
  {
   "cell_type": "code",
   "execution_count": 12,
   "id": "d9dbfc2f-4f8e-4681-b18c-8a427eb95c8d",
   "metadata": {
    "execution": {
     "iopub.execute_input": "2024-09-10T09:53:21.851031Z",
     "iopub.status.busy": "2024-09-10T09:53:21.850041Z",
     "iopub.status.idle": "2024-09-10T09:53:21.857910Z",
     "shell.execute_reply": "2024-09-10T09:53:21.856882Z",
     "shell.execute_reply.started": "2024-09-10T09:53:21.851031Z"
    }
   },
   "outputs": [],
   "source": [
    "planet = \"Planet Earth\"\n",
    "ocean = \"Indian Ocean\"\n",
    "planet_and_ocean = zip(planet, ocean)"
   ]
  },
  {
   "cell_type": "code",
   "execution_count": 13,
   "id": "b6f1a350-2078-499e-ae00-2af50278dfcb",
   "metadata": {
    "execution": {
     "iopub.execute_input": "2024-09-10T09:53:31.076326Z",
     "iopub.status.busy": "2024-09-10T09:53:31.075344Z",
     "iopub.status.idle": "2024-09-10T09:53:31.085135Z",
     "shell.execute_reply": "2024-09-10T09:53:31.084119Z",
     "shell.execute_reply.started": "2024-09-10T09:53:31.076326Z"
    }
   },
   "outputs": [
    {
     "data": {
      "text/plain": [
       "<zip at 0x2315e8abc80>"
      ]
     },
     "execution_count": 13,
     "metadata": {},
     "output_type": "execute_result"
    }
   ],
   "source": [
    "planet_and_ocean"
   ]
  },
  {
   "cell_type": "code",
   "execution_count": 14,
   "id": "1c7fd7ca-3414-42dc-a9c9-2f49886bf063",
   "metadata": {
    "execution": {
     "iopub.execute_input": "2024-09-10T09:53:40.791914Z",
     "iopub.status.busy": "2024-09-10T09:53:40.790914Z",
     "iopub.status.idle": "2024-09-10T09:53:40.800715Z",
     "shell.execute_reply": "2024-09-10T09:53:40.799692Z",
     "shell.execute_reply.started": "2024-09-10T09:53:40.790914Z"
    }
   },
   "outputs": [
    {
     "data": {
      "text/plain": [
       "[('P', 'I'),\n",
       " ('l', 'n'),\n",
       " ('a', 'd'),\n",
       " ('n', 'i'),\n",
       " ('e', 'a'),\n",
       " ('t', 'n'),\n",
       " (' ', ' '),\n",
       " ('E', 'O'),\n",
       " ('a', 'c'),\n",
       " ('r', 'e'),\n",
       " ('t', 'a'),\n",
       " ('h', 'n')]"
      ]
     },
     "execution_count": 14,
     "metadata": {},
     "output_type": "execute_result"
    }
   ],
   "source": [
    "list(planet_and_ocean)"
   ]
  },
  {
   "cell_type": "code",
   "execution_count": 15,
   "id": "a4724adc-1bbb-4fd1-ae10-7899c59c4d6a",
   "metadata": {
    "execution": {
     "iopub.execute_input": "2024-09-10T09:56:29.896852Z",
     "iopub.status.busy": "2024-09-10T09:56:29.895864Z",
     "iopub.status.idle": "2024-09-10T09:56:29.903691Z",
     "shell.execute_reply": "2024-09-10T09:56:29.902662Z",
     "shell.execute_reply.started": "2024-09-10T09:56:29.896852Z"
    }
   },
   "outputs": [],
   "source": [
    "people = {\"Eric\": 25, \"James\": 23, \"Harry\": 29}\n",
    "salary = {\"IT\": 75000, \"Programming\": 110000, \"Consultancy\": 65000}"
   ]
  },
  {
   "cell_type": "code",
   "execution_count": 16,
   "id": "635212f0-16e7-4059-ae10-e7904ad1657e",
   "metadata": {
    "execution": {
     "iopub.execute_input": "2024-09-10T09:56:34.938582Z",
     "iopub.status.busy": "2024-09-10T09:56:34.937578Z",
     "iopub.status.idle": "2024-09-10T09:56:34.948353Z",
     "shell.execute_reply": "2024-09-10T09:56:34.946311Z",
     "shell.execute_reply.started": "2024-09-10T09:56:34.938582Z"
    }
   },
   "outputs": [
    {
     "data": {
      "text/plain": [
       "dict_values([25, 23, 29])"
      ]
     },
     "execution_count": 16,
     "metadata": {},
     "output_type": "execute_result"
    }
   ],
   "source": [
    "people.values()"
   ]
  },
  {
   "cell_type": "code",
   "execution_count": 22,
   "id": "d7204070-dc25-4a4f-8cb5-3daedadba1ea",
   "metadata": {
    "execution": {
     "iopub.execute_input": "2024-09-10T09:59:17.463682Z",
     "iopub.status.busy": "2024-09-10T09:59:17.462683Z",
     "iopub.status.idle": "2024-09-10T09:59:17.470021Z",
     "shell.execute_reply": "2024-09-10T09:59:17.469026Z",
     "shell.execute_reply.started": "2024-09-10T09:59:17.463682Z"
    }
   },
   "outputs": [],
   "source": [
    "age_and_job = zip(people.values(), salary)"
   ]
  },
  {
   "cell_type": "code",
   "execution_count": 23,
   "id": "d821d450-ccf6-4113-97b9-3fa1ebcf55ff",
   "metadata": {
    "execution": {
     "iopub.execute_input": "2024-09-10T09:59:18.016828Z",
     "iopub.status.busy": "2024-09-10T09:59:18.015825Z",
     "iopub.status.idle": "2024-09-10T09:59:18.027218Z",
     "shell.execute_reply": "2024-09-10T09:59:18.025201Z",
     "shell.execute_reply.started": "2024-09-10T09:59:18.016828Z"
    }
   },
   "outputs": [
    {
     "data": {
      "text/plain": [
       "<zip at 0x2315ef88700>"
      ]
     },
     "execution_count": 23,
     "metadata": {},
     "output_type": "execute_result"
    }
   ],
   "source": [
    "age_and_job"
   ]
  },
  {
   "cell_type": "code",
   "execution_count": 24,
   "id": "9c140b59-2b4a-4b9c-8e94-dad8d9987878",
   "metadata": {
    "execution": {
     "iopub.execute_input": "2024-09-10T09:59:18.664205Z",
     "iopub.status.busy": "2024-09-10T09:59:18.663205Z",
     "iopub.status.idle": "2024-09-10T09:59:18.673998Z",
     "shell.execute_reply": "2024-09-10T09:59:18.671996Z",
     "shell.execute_reply.started": "2024-09-10T09:59:18.664205Z"
    }
   },
   "outputs": [
    {
     "data": {
      "text/plain": [
       "[(25, 'IT'), (23, 'Programming'), (29, 'Consultancy')]"
      ]
     },
     "execution_count": 24,
     "metadata": {},
     "output_type": "execute_result"
    }
   ],
   "source": [
    "list(age_and_job)"
   ]
  },
  {
   "cell_type": "code",
   "execution_count": 25,
   "id": "e40310a5-6824-4b71-a9b5-ef1e54a2ceb4",
   "metadata": {
    "execution": {
     "iopub.execute_input": "2024-09-10T09:59:46.947172Z",
     "iopub.status.busy": "2024-09-10T09:59:46.946173Z",
     "iopub.status.idle": "2024-09-10T09:59:46.954906Z",
     "shell.execute_reply": "2024-09-10T09:59:46.952875Z",
     "shell.execute_reply.started": "2024-09-10T09:59:46.947172Z"
    }
   },
   "outputs": [],
   "source": [
    "people_and_salary = zip(people, salary.values())"
   ]
  },
  {
   "cell_type": "code",
   "execution_count": 26,
   "id": "8567b623-6489-48fe-95c3-df9f46c7095d",
   "metadata": {
    "execution": {
     "iopub.execute_input": "2024-09-10T09:59:57.665491Z",
     "iopub.status.busy": "2024-09-10T09:59:57.664488Z",
     "iopub.status.idle": "2024-09-10T09:59:57.674430Z",
     "shell.execute_reply": "2024-09-10T09:59:57.673410Z",
     "shell.execute_reply.started": "2024-09-10T09:59:57.665491Z"
    }
   },
   "outputs": [
    {
     "data": {
      "text/plain": [
       "[('Eric', 75000), ('James', 110000), ('Harry', 65000)]"
      ]
     },
     "execution_count": 26,
     "metadata": {},
     "output_type": "execute_result"
    }
   ],
   "source": [
    "list(people_and_salary)"
   ]
  },
  {
   "cell_type": "code",
   "execution_count": 27,
   "id": "ed45ab56-5ba4-465f-adb7-1bc95469ea8b",
   "metadata": {
    "execution": {
     "iopub.execute_input": "2024-09-10T10:02:16.743812Z",
     "iopub.status.busy": "2024-09-10T10:02:16.742812Z",
     "iopub.status.idle": "2024-09-10T10:02:16.751297Z",
     "shell.execute_reply": "2024-09-10T10:02:16.750281Z",
     "shell.execute_reply.started": "2024-09-10T10:02:16.743812Z"
    }
   },
   "outputs": [],
   "source": [
    "from itertools import zip_longest"
   ]
  },
  {
   "cell_type": "code",
   "execution_count": 29,
   "id": "b7142038-33ff-4fa8-ab7c-62ce2d59cdc6",
   "metadata": {
    "execution": {
     "iopub.execute_input": "2024-09-10T10:06:25.805596Z",
     "iopub.status.busy": "2024-09-10T10:06:25.804607Z",
     "iopub.status.idle": "2024-09-10T10:06:25.812220Z",
     "shell.execute_reply": "2024-09-10T10:06:25.811194Z",
     "shell.execute_reply.started": "2024-09-10T10:06:25.805596Z"
    }
   },
   "outputs": [],
   "source": [
    "empire = [\"French\", \"British\", \"Russian\", \"Spanish\"]\n",
    "country = [\"France\", \"UK\", \"Russia\"]"
   ]
  },
  {
   "cell_type": "code",
   "execution_count": 31,
   "id": "da6b5ea0-316b-4eba-8287-d959711614e3",
   "metadata": {
    "execution": {
     "iopub.execute_input": "2024-09-10T10:07:02.980173Z",
     "iopub.status.busy": "2024-09-10T10:07:02.979173Z",
     "iopub.status.idle": "2024-09-10T10:07:02.986107Z",
     "shell.execute_reply": "2024-09-10T10:07:02.985078Z",
     "shell.execute_reply.started": "2024-09-10T10:07:02.980173Z"
    }
   },
   "outputs": [],
   "source": [
    "empire_and_country = zip_longest(empire, country, fillvalue=\"Spain\")"
   ]
  },
  {
   "cell_type": "code",
   "execution_count": 34,
   "id": "822c50fe-3f11-4220-b24a-bda787a1a2e2",
   "metadata": {
    "execution": {
     "iopub.execute_input": "2024-09-10T10:07:27.813311Z",
     "iopub.status.busy": "2024-09-10T10:07:27.812301Z",
     "iopub.status.idle": "2024-09-10T10:07:27.823345Z",
     "shell.execute_reply": "2024-09-10T10:07:27.822303Z",
     "shell.execute_reply.started": "2024-09-10T10:07:27.813311Z"
    }
   },
   "outputs": [
    {
     "data": {
      "text/plain": [
       "[('French', 'France'),\n",
       " ('British', 'UK'),\n",
       " ('Russian', 'Russia'),\n",
       " ('Spanish', 'Spain')]"
      ]
     },
     "execution_count": 34,
     "metadata": {},
     "output_type": "execute_result"
    }
   ],
   "source": [
    "list(empire_and_country)"
   ]
  },
  {
   "cell_type": "code",
   "execution_count": 35,
   "id": "132b8086-9b8f-4355-9381-bea33904c310",
   "metadata": {
    "execution": {
     "iopub.execute_input": "2024-09-10T10:10:33.374819Z",
     "iopub.status.busy": "2024-09-10T10:10:33.372807Z",
     "iopub.status.idle": "2024-09-10T10:10:33.381210Z",
     "shell.execute_reply": "2024-09-10T10:10:33.380183Z",
     "shell.execute_reply.started": "2024-09-10T10:10:33.373809Z"
    }
   },
   "outputs": [],
   "source": [
    "mathematician = [\"Ramanujan\", \"Euler\", \"Biruni\", \"Gauss\"]\n",
    "nationality = [\"Indian\", \"Swiss\", \"Iranian\"]\n",
    "mathematician_and_nationality = zip_longest(mathematician, nationality, fillvalue=\"German\")"
   ]
  },
  {
   "cell_type": "code",
   "execution_count": 36,
   "id": "5d237d5e-43eb-4117-9f8a-e6280ab41082",
   "metadata": {
    "execution": {
     "iopub.execute_input": "2024-09-10T10:10:44.251410Z",
     "iopub.status.busy": "2024-09-10T10:10:44.250414Z",
     "iopub.status.idle": "2024-09-10T10:10:44.260483Z",
     "shell.execute_reply": "2024-09-10T10:10:44.259439Z",
     "shell.execute_reply.started": "2024-09-10T10:10:44.251410Z"
    }
   },
   "outputs": [
    {
     "data": {
      "text/plain": [
       "[('Ramanujan', 'Indian'),\n",
       " ('Euler', 'Swiss'),\n",
       " ('Biruni', 'Iranian'),\n",
       " ('Gauss', 'German')]"
      ]
     },
     "execution_count": 36,
     "metadata": {},
     "output_type": "execute_result"
    }
   ],
   "source": [
    "list(mathematician_and_nationality)"
   ]
  },
  {
   "cell_type": "code",
   "execution_count": 37,
   "id": "0987e8e4-ebbc-48b8-ac66-110125a323cb",
   "metadata": {
    "execution": {
     "iopub.execute_input": "2024-09-10T10:14:36.317508Z",
     "iopub.status.busy": "2024-09-10T10:14:36.316507Z",
     "iopub.status.idle": "2024-09-10T10:14:36.327554Z",
     "shell.execute_reply": "2024-09-10T10:14:36.325532Z",
     "shell.execute_reply.started": "2024-09-10T10:14:36.317508Z"
    }
   },
   "outputs": [
    {
     "data": {
      "text/plain": [
       "[(0, 'Oak'), (1, 'Apple Tree'), (2, 'Pine')]"
      ]
     },
     "execution_count": 37,
     "metadata": {},
     "output_type": "execute_result"
    }
   ],
   "source": [
    "trees = [\"Oak\", \"Apple Tree\", \"Pine\"]\n",
    "enumerated_trees = enumerate(trees)\n",
    "list(enumerated_trees)"
   ]
  },
  {
   "cell_type": "code",
   "execution_count": 38,
   "id": "5fd48adc-6d12-4813-9db9-aee68a8c9d77",
   "metadata": {
    "execution": {
     "iopub.execute_input": "2024-09-10T10:16:34.230287Z",
     "iopub.status.busy": "2024-09-10T10:16:34.229263Z",
     "iopub.status.idle": "2024-09-10T10:16:34.238636Z",
     "shell.execute_reply": "2024-09-10T10:16:34.237620Z",
     "shell.execute_reply.started": "2024-09-10T10:16:34.230287Z"
    }
   },
   "outputs": [
    {
     "name": "stdout",
     "output_type": "stream",
     "text": [
      "Tree : Oak, Index : 0\n",
      "Tree : Apple Tree, Index : 1\n",
      "Tree : Pine, Index : 2\n"
     ]
    }
   ],
   "source": [
    "for index, tree in enumerate(trees, start=0):\n",
    "    print(f\"Tree : {tree}, Index : {index}\")"
   ]
  },
  {
   "cell_type": "code",
   "execution_count": 39,
   "id": "9e64ff53-141a-4f1d-8f22-f3c164add43f",
   "metadata": {
    "execution": {
     "iopub.execute_input": "2024-09-10T10:18:45.144362Z",
     "iopub.status.busy": "2024-09-10T10:18:45.143337Z",
     "iopub.status.idle": "2024-09-10T10:18:45.151824Z",
     "shell.execute_reply": "2024-09-10T10:18:45.150809Z",
     "shell.execute_reply.started": "2024-09-10T10:18:45.144362Z"
    }
   },
   "outputs": [
    {
     "name": "stdout",
     "output_type": "stream",
     "text": [
      "My pet is cat\n",
      "My pet is dog\n",
      "My pet is parrot\n",
      "My pet is hamster\n"
     ]
    }
   ],
   "source": [
    "pets = [\"cat\", \"dog\", \"parrot\", \"hamster\"]\n",
    "for index, pet in enumerate(pets):\n",
    "    print(f\"My pet is {pet}\")"
   ]
  },
  {
   "cell_type": "code",
   "execution_count": 41,
   "id": "1596a992-2e46-4895-b04c-423153084f37",
   "metadata": {
    "execution": {
     "iopub.execute_input": "2024-09-10T10:19:44.518741Z",
     "iopub.status.busy": "2024-09-10T10:19:44.517741Z",
     "iopub.status.idle": "2024-09-10T10:19:44.526014Z",
     "shell.execute_reply": "2024-09-10T10:19:44.524986Z",
     "shell.execute_reply.started": "2024-09-10T10:19:44.518741Z"
    }
   },
   "outputs": [],
   "source": [
    "mul = lambda x, y: x*y"
   ]
  },
  {
   "cell_type": "code",
   "execution_count": 43,
   "id": "893a9878-e0f4-40a9-8184-a68dd4d8b75f",
   "metadata": {
    "execution": {
     "iopub.execute_input": "2024-09-10T10:19:52.690623Z",
     "iopub.status.busy": "2024-09-10T10:19:52.689626Z",
     "iopub.status.idle": "2024-09-10T10:19:52.699964Z",
     "shell.execute_reply": "2024-09-10T10:19:52.698941Z",
     "shell.execute_reply.started": "2024-09-10T10:19:52.690623Z"
    }
   },
   "outputs": [
    {
     "data": {
      "text/plain": [
       "36"
      ]
     },
     "execution_count": 43,
     "metadata": {},
     "output_type": "execute_result"
    }
   ],
   "source": [
    "mul(6,6)"
   ]
  },
  {
   "cell_type": "code",
   "execution_count": 44,
   "id": "2425c201-b66a-4f87-9e0a-fd5123b56f5f",
   "metadata": {
    "execution": {
     "iopub.execute_input": "2024-09-10T10:20:58.643428Z",
     "iopub.status.busy": "2024-09-10T10:20:58.642428Z",
     "iopub.status.idle": "2024-09-10T10:20:58.650589Z",
     "shell.execute_reply": "2024-09-10T10:20:58.649568Z",
     "shell.execute_reply.started": "2024-09-10T10:20:58.643428Z"
    }
   },
   "outputs": [],
   "source": [
    "divide = lambda x, y: x/y"
   ]
  },
  {
   "cell_type": "code",
   "execution_count": 45,
   "id": "06306876-7cf3-4908-9044-f2f19ff0c223",
   "metadata": {
    "execution": {
     "iopub.execute_input": "2024-09-10T10:21:02.799706Z",
     "iopub.status.busy": "2024-09-10T10:21:02.798689Z",
     "iopub.status.idle": "2024-09-10T10:21:02.808159Z",
     "shell.execute_reply": "2024-09-10T10:21:02.807133Z",
     "shell.execute_reply.started": "2024-09-10T10:21:02.799706Z"
    }
   },
   "outputs": [
    {
     "data": {
      "text/plain": [
       "0.8333333333333334"
      ]
     },
     "execution_count": 45,
     "metadata": {},
     "output_type": "execute_result"
    }
   ],
   "source": [
    "divide(5,6)"
   ]
  },
  {
   "cell_type": "code",
   "execution_count": 53,
   "id": "35fc851d-e3f5-49a2-bba7-4ee0543b5de3",
   "metadata": {
    "execution": {
     "iopub.execute_input": "2024-09-10T10:24:15.504239Z",
     "iopub.status.busy": "2024-09-10T10:24:15.504239Z",
     "iopub.status.idle": "2024-09-10T10:24:15.511647Z",
     "shell.execute_reply": "2024-09-10T10:24:15.510657Z",
     "shell.execute_reply.started": "2024-09-10T10:24:15.504239Z"
    }
   },
   "outputs": [],
   "source": [
    "lambda_functions = [lambda x: x+i for i in range(4)]"
   ]
  },
  {
   "cell_type": "code",
   "execution_count": 57,
   "id": "4e74c4bb-85dc-4eda-a7e0-3e9c67f6cef2",
   "metadata": {
    "execution": {
     "iopub.execute_input": "2024-09-10T10:24:43.636978Z",
     "iopub.status.busy": "2024-09-10T10:24:43.635990Z",
     "iopub.status.idle": "2024-09-10T10:24:43.643594Z",
     "shell.execute_reply": "2024-09-10T10:24:43.642574Z",
     "shell.execute_reply.started": "2024-09-10T10:24:43.636978Z"
    }
   },
   "outputs": [],
   "source": [
    "lambda_function_one = lambda_functions[0]"
   ]
  },
  {
   "cell_type": "code",
   "execution_count": 60,
   "id": "d9e35501-8943-4cbb-949a-d150637c1c05",
   "metadata": {
    "execution": {
     "iopub.execute_input": "2024-09-10T10:25:47.910240Z",
     "iopub.status.busy": "2024-09-10T10:25:47.909247Z",
     "iopub.status.idle": "2024-09-10T10:25:47.920195Z",
     "shell.execute_reply": "2024-09-10T10:25:47.918179Z",
     "shell.execute_reply.started": "2024-09-10T10:25:47.910240Z"
    }
   },
   "outputs": [
    {
     "data": {
      "text/plain": [
       "7"
      ]
     },
     "execution_count": 60,
     "metadata": {},
     "output_type": "execute_result"
    }
   ],
   "source": [
    "lambda_function_one(4)"
   ]
  },
  {
   "cell_type": "code",
   "execution_count": 65,
   "id": "b73b9de9-ba7f-41d6-93ae-7f7513c84acb",
   "metadata": {
    "execution": {
     "iopub.execute_input": "2024-09-10T10:27:45.145405Z",
     "iopub.status.busy": "2024-09-10T10:27:45.144406Z",
     "iopub.status.idle": "2024-09-10T10:27:45.150690Z",
     "shell.execute_reply": "2024-09-10T10:27:45.149668Z",
     "shell.execute_reply.started": "2024-09-10T10:27:45.145405Z"
    }
   },
   "outputs": [],
   "source": [
    "from math import sqrt"
   ]
  },
  {
   "cell_type": "code",
   "execution_count": 66,
   "id": "ee2a378c-d833-4431-886f-ad5f356f2b19",
   "metadata": {
    "execution": {
     "iopub.execute_input": "2024-09-10T10:28:01.760606Z",
     "iopub.status.busy": "2024-09-10T10:28:01.759606Z",
     "iopub.status.idle": "2024-09-10T10:28:01.769825Z",
     "shell.execute_reply": "2024-09-10T10:28:01.767803Z",
     "shell.execute_reply.started": "2024-09-10T10:28:01.760606Z"
    }
   },
   "outputs": [],
   "source": [
    "norm = lambda x, y: sqrt(x**2 + y**2)"
   ]
  },
  {
   "cell_type": "code",
   "execution_count": 68,
   "id": "82e86e65-cb96-47d9-b2be-12f272378ac4",
   "metadata": {
    "execution": {
     "iopub.execute_input": "2024-09-10T10:28:20.057948Z",
     "iopub.status.busy": "2024-09-10T10:28:20.056949Z",
     "iopub.status.idle": "2024-09-10T10:28:20.067289Z",
     "shell.execute_reply": "2024-09-10T10:28:20.066272Z",
     "shell.execute_reply.started": "2024-09-10T10:28:20.057948Z"
    }
   },
   "outputs": [
    {
     "data": {
      "text/plain": [
       "10.0"
      ]
     },
     "execution_count": 68,
     "metadata": {},
     "output_type": "execute_result"
    }
   ],
   "source": [
    "norm(8,6)"
   ]
  },
  {
   "cell_type": "code",
   "execution_count": 69,
   "id": "fb6e3c92-da18-45ea-8a10-6434c78c12d0",
   "metadata": {
    "execution": {
     "iopub.execute_input": "2024-09-10T10:29:58.068839Z",
     "iopub.status.busy": "2024-09-10T10:29:58.067841Z",
     "iopub.status.idle": "2024-09-10T10:29:58.076342Z",
     "shell.execute_reply": "2024-09-10T10:29:58.074324Z",
     "shell.execute_reply.started": "2024-09-10T10:29:58.068839Z"
    }
   },
   "outputs": [],
   "source": [
    "from math import sin, cos"
   ]
  },
  {
   "cell_type": "code",
   "execution_count": 71,
   "id": "50c52dbc-88c1-4886-b5e1-f6c9af2bcbd5",
   "metadata": {
    "execution": {
     "iopub.execute_input": "2024-09-10T10:30:44.823562Z",
     "iopub.status.busy": "2024-09-10T10:30:44.823562Z",
     "iopub.status.idle": "2024-09-10T10:30:44.832283Z",
     "shell.execute_reply": "2024-09-10T10:30:44.830268Z",
     "shell.execute_reply.started": "2024-09-10T10:30:44.823562Z"
    }
   },
   "outputs": [],
   "source": [
    "polar_function = lambda r, theta: r*sin(theta)*theta"
   ]
  },
  {
   "cell_type": "code",
   "execution_count": 74,
   "id": "99ad024b-b433-4c2a-8c4b-28657f751e27",
   "metadata": {
    "execution": {
     "iopub.execute_input": "2024-09-10T10:32:22.463114Z",
     "iopub.status.busy": "2024-09-10T10:32:22.462112Z",
     "iopub.status.idle": "2024-09-10T10:32:22.470756Z",
     "shell.execute_reply": "2024-09-10T10:32:22.468730Z",
     "shell.execute_reply.started": "2024-09-10T10:32:22.463114Z"
    }
   },
   "outputs": [],
   "source": [
    "r = 10.0\n",
    "theta = 3.14159/4"
   ]
  },
  {
   "cell_type": "code",
   "execution_count": 75,
   "id": "e3b8aeed-3bd9-468f-9990-771822030c3a",
   "metadata": {
    "execution": {
     "iopub.execute_input": "2024-09-10T10:32:22.963065Z",
     "iopub.status.busy": "2024-09-10T10:32:22.962083Z",
     "iopub.status.idle": "2024-09-10T10:32:22.971809Z",
     "shell.execute_reply": "2024-09-10T10:32:22.970783Z",
     "shell.execute_reply.started": "2024-09-10T10:32:22.963065Z"
    }
   },
   "outputs": [
    {
     "data": {
      "text/plain": [
       "5.553595297524999"
      ]
     },
     "execution_count": 75,
     "metadata": {},
     "output_type": "execute_result"
    }
   ],
   "source": [
    "polar_function(r, theta)"
   ]
  },
  {
   "cell_type": "code",
   "execution_count": 76,
   "id": "4cf64118-2594-455e-9f41-ed1da5655f1b",
   "metadata": {
    "execution": {
     "iopub.execute_input": "2024-09-10T10:33:46.075692Z",
     "iopub.status.busy": "2024-09-10T10:33:46.074700Z",
     "iopub.status.idle": "2024-09-10T10:33:46.084328Z",
     "shell.execute_reply": "2024-09-10T10:33:46.082309Z",
     "shell.execute_reply.started": "2024-09-10T10:33:46.075692Z"
    }
   },
   "outputs": [],
   "source": [
    "polar_function_second = lambda r, theta: r**2*theta+r*sin(theta)"
   ]
  },
  {
   "cell_type": "code",
   "execution_count": 77,
   "id": "df65c688-7ef2-4539-9970-d33b230d7dc4",
   "metadata": {
    "execution": {
     "iopub.execute_input": "2024-09-10T10:34:08.628798Z",
     "iopub.status.busy": "2024-09-10T10:34:08.628798Z",
     "iopub.status.idle": "2024-09-10T10:34:08.638486Z",
     "shell.execute_reply": "2024-09-10T10:34:08.637466Z",
     "shell.execute_reply.started": "2024-09-10T10:34:08.628798Z"
    }
   },
   "outputs": [
    {
     "data": {
      "text/plain": [
       "15.58995641826961"
      ]
     },
     "execution_count": 77,
     "metadata": {},
     "output_type": "execute_result"
    }
   ],
   "source": [
    "polar_function_second(5, 3.14159/6)"
   ]
  },
  {
   "cell_type": "code",
   "execution_count": null,
   "id": "08a1e56d-f0ce-49b4-bbb8-a5333dbb0872",
   "metadata": {},
   "outputs": [],
   "source": []
  }
 ],
 "metadata": {
  "kernelspec": {
   "display_name": "Python 3 (ipykernel)",
   "language": "python",
   "name": "python3"
  },
  "language_info": {
   "codemirror_mode": {
    "name": "ipython",
    "version": 3
   },
   "file_extension": ".py",
   "mimetype": "text/x-python",
   "name": "python",
   "nbconvert_exporter": "python",
   "pygments_lexer": "ipython3",
   "version": "3.12.5"
  }
 },
 "nbformat": 4,
 "nbformat_minor": 5
}
