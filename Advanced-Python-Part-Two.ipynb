{
 "cells": [
  {
   "cell_type": "code",
   "execution_count": 1,
   "id": "060def5c-ecfd-416d-bfc3-fe59a19c8f5e",
   "metadata": {
    "execution": {
     "iopub.execute_input": "2024-09-10T11:19:09.116485Z",
     "iopub.status.busy": "2024-09-10T11:19:09.115498Z",
     "iopub.status.idle": "2024-09-10T11:19:09.124266Z",
     "shell.execute_reply": "2024-09-10T11:19:09.123249Z",
     "shell.execute_reply.started": "2024-09-10T11:19:09.116485Z"
    }
   },
   "outputs": [],
   "source": [
    "fruits = [\"Orange\", \"Apple\", \"Peach\", \"Pear\"]"
   ]
  },
  {
   "cell_type": "code",
   "execution_count": 2,
   "id": "82e66040-a753-470b-8def-f30c83fb298b",
   "metadata": {
    "execution": {
     "iopub.execute_input": "2024-09-10T11:19:14.145338Z",
     "iopub.status.busy": "2024-09-10T11:19:14.143345Z",
     "iopub.status.idle": "2024-09-10T11:19:14.151384Z",
     "shell.execute_reply": "2024-09-10T11:19:14.150358Z",
     "shell.execute_reply.started": "2024-09-10T11:19:14.144335Z"
    }
   },
   "outputs": [],
   "source": [
    "fruits.sort()"
   ]
  },
  {
   "cell_type": "code",
   "execution_count": 3,
   "id": "aea9d5d8-612d-4978-bba4-4fab68d37eee",
   "metadata": {
    "execution": {
     "iopub.execute_input": "2024-09-10T11:19:25.649972Z",
     "iopub.status.busy": "2024-09-10T11:19:25.648972Z",
     "iopub.status.idle": "2024-09-10T11:19:25.663248Z",
     "shell.execute_reply": "2024-09-10T11:19:25.661235Z",
     "shell.execute_reply.started": "2024-09-10T11:19:25.649972Z"
    }
   },
   "outputs": [
    {
     "data": {
      "text/plain": [
       "['Apple', 'Orange', 'Peach', 'Pear']"
      ]
     },
     "execution_count": 3,
     "metadata": {},
     "output_type": "execute_result"
    }
   ],
   "source": [
    "fruits"
   ]
  },
  {
   "cell_type": "code",
   "execution_count": 4,
   "id": "2189ddaf-69fc-4d89-81e4-9234b9736747",
   "metadata": {
    "execution": {
     "iopub.execute_input": "2024-09-10T11:19:44.045601Z",
     "iopub.status.busy": "2024-09-10T11:19:44.044578Z",
     "iopub.status.idle": "2024-09-10T11:19:44.054808Z",
     "shell.execute_reply": "2024-09-10T11:19:44.053793Z",
     "shell.execute_reply.started": "2024-09-10T11:19:44.045601Z"
    }
   },
   "outputs": [
    {
     "data": {
      "text/plain": [
       "['Pear', 'Peach', 'Orange', 'Apple']"
      ]
     },
     "execution_count": 4,
     "metadata": {},
     "output_type": "execute_result"
    }
   ],
   "source": [
    "sorted(fruits, reverse=True)"
   ]
  },
  {
   "cell_type": "code",
   "execution_count": 15,
   "id": "3457d9e6-83da-48a5-a527-1f8e73dbdf97",
   "metadata": {
    "execution": {
     "iopub.execute_input": "2024-09-10T11:24:16.188388Z",
     "iopub.status.busy": "2024-09-10T11:24:16.187395Z",
     "iopub.status.idle": "2024-09-10T11:24:16.194983Z",
     "shell.execute_reply": "2024-09-10T11:24:16.193956Z",
     "shell.execute_reply.started": "2024-09-10T11:24:16.188388Z"
    }
   },
   "outputs": [],
   "source": [
    "fruits_price = {\"Pineapple\": 5, \"Apple\": 3, \"Orange\": 2}"
   ]
  },
  {
   "cell_type": "code",
   "execution_count": 16,
   "id": "4e860827-496d-4c7a-83cb-ff1564505ad1",
   "metadata": {
    "execution": {
     "iopub.execute_input": "2024-09-10T11:24:16.561253Z",
     "iopub.status.busy": "2024-09-10T11:24:16.560252Z",
     "iopub.status.idle": "2024-09-10T11:24:16.590170Z",
     "shell.execute_reply": "2024-09-10T11:24:16.588154Z",
     "shell.execute_reply.started": "2024-09-10T11:24:16.561253Z"
    }
   },
   "outputs": [
    {
     "ename": "AttributeError",
     "evalue": "'dict' object has no attribute 'sort'",
     "output_type": "error",
     "traceback": [
      "\u001b[1;31m---------------------------------------------------------------------------\u001b[0m",
      "\u001b[1;31mAttributeError\u001b[0m                            Traceback (most recent call last)",
      "Cell \u001b[1;32mIn[16], line 1\u001b[0m\n\u001b[1;32m----> 1\u001b[0m \u001b[43mfruits_price\u001b[49m\u001b[38;5;241;43m.\u001b[39;49m\u001b[43msort\u001b[49m()\n",
      "\u001b[1;31mAttributeError\u001b[0m: 'dict' object has no attribute 'sort'"
     ]
    }
   ],
   "source": [
    "fruits_price.sort()"
   ]
  },
  {
   "cell_type": "code",
   "execution_count": 17,
   "id": "47193266-5c19-49ef-b880-47972e29f432",
   "metadata": {
    "execution": {
     "iopub.execute_input": "2024-09-10T11:24:16.881830Z",
     "iopub.status.busy": "2024-09-10T11:24:16.880830Z",
     "iopub.status.idle": "2024-09-10T11:24:16.891635Z",
     "shell.execute_reply": "2024-09-10T11:24:16.889618Z",
     "shell.execute_reply.started": "2024-09-10T11:24:16.881830Z"
    }
   },
   "outputs": [
    {
     "data": {
      "text/plain": [
       "['Apple', 'Orange', 'Pineapple']"
      ]
     },
     "execution_count": 17,
     "metadata": {},
     "output_type": "execute_result"
    }
   ],
   "source": [
    "sorted(fruits_price)"
   ]
  },
  {
   "cell_type": "code",
   "execution_count": 11,
   "id": "ccb95321-a8f4-4458-8182-143c9a75517c",
   "metadata": {
    "execution": {
     "iopub.execute_input": "2024-09-10T11:23:36.036065Z",
     "iopub.status.busy": "2024-09-10T11:23:36.035064Z",
     "iopub.status.idle": "2024-09-10T11:23:36.042363Z",
     "shell.execute_reply": "2024-09-10T11:23:36.041340Z",
     "shell.execute_reply.started": "2024-09-10T11:23:36.036065Z"
    }
   },
   "outputs": [],
   "source": [
    "def sorting_key(fruit):\n",
    "    return fruits_price[fruit]"
   ]
  },
  {
   "cell_type": "code",
   "execution_count": 18,
   "id": "9c89b4d6-3b82-48ed-bba8-59b356ad0f46",
   "metadata": {
    "execution": {
     "iopub.execute_input": "2024-09-10T11:24:36.145473Z",
     "iopub.status.busy": "2024-09-10T11:24:36.144474Z",
     "iopub.status.idle": "2024-09-10T11:24:36.154805Z",
     "shell.execute_reply": "2024-09-10T11:24:36.153785Z",
     "shell.execute_reply.started": "2024-09-10T11:24:36.145473Z"
    }
   },
   "outputs": [
    {
     "data": {
      "text/plain": [
       "['Orange', 'Apple', 'Pineapple']"
      ]
     },
     "execution_count": 18,
     "metadata": {},
     "output_type": "execute_result"
    }
   ],
   "source": [
    "sorted(fruits_price, key=sorting_key)"
   ]
  },
  {
   "cell_type": "code",
   "execution_count": 19,
   "id": "35c94b0a-f969-4b54-a0f6-cfe9bcd910cf",
   "metadata": {
    "execution": {
     "iopub.execute_input": "2024-09-10T11:25:45.468054Z",
     "iopub.status.busy": "2024-09-10T11:25:45.467034Z",
     "iopub.status.idle": "2024-09-10T11:25:45.478484Z",
     "shell.execute_reply": "2024-09-10T11:25:45.477469Z",
     "shell.execute_reply.started": "2024-09-10T11:25:45.468054Z"
    }
   },
   "outputs": [
    {
     "data": {
      "text/plain": [
       "['Orange', 'Apple', 'Pineapple']"
      ]
     },
     "execution_count": 19,
     "metadata": {},
     "output_type": "execute_result"
    }
   ],
   "source": [
    "sorted(fruits_price, key=lambda fruit: fruits_price[fruit])"
   ]
  },
  {
   "cell_type": "code",
   "execution_count": 20,
   "id": "abaf8146-5ab6-4028-a827-f96ca6044862",
   "metadata": {
    "execution": {
     "iopub.execute_input": "2024-09-10T11:28:59.434512Z",
     "iopub.status.busy": "2024-09-10T11:28:59.433511Z",
     "iopub.status.idle": "2024-09-10T11:28:59.440932Z",
     "shell.execute_reply": "2024-09-10T11:28:59.439904Z",
     "shell.execute_reply.started": "2024-09-10T11:28:59.434512Z"
    }
   },
   "outputs": [],
   "source": [
    "fruits_name_length = map(lambda fruit: len(fruit), fruits)"
   ]
  },
  {
   "cell_type": "code",
   "execution_count": 22,
   "id": "f09c1dd5-7c62-4564-be71-5c438b1a0731",
   "metadata": {
    "execution": {
     "iopub.execute_input": "2024-09-10T11:29:19.719568Z",
     "iopub.status.busy": "2024-09-10T11:29:19.718591Z",
     "iopub.status.idle": "2024-09-10T11:29:19.728964Z",
     "shell.execute_reply": "2024-09-10T11:29:19.727935Z",
     "shell.execute_reply.started": "2024-09-10T11:29:19.719568Z"
    }
   },
   "outputs": [
    {
     "data": {
      "text/plain": [
       "[5, 6, 5, 4]"
      ]
     },
     "execution_count": 22,
     "metadata": {},
     "output_type": "execute_result"
    }
   ],
   "source": [
    "list(fruits_name_length)"
   ]
  },
  {
   "cell_type": "code",
   "execution_count": 23,
   "id": "8b7f4ed6-48a1-49e7-b4b7-bdda62058f5a",
   "metadata": {
    "execution": {
     "iopub.execute_input": "2024-09-10T11:30:06.418113Z",
     "iopub.status.busy": "2024-09-10T11:30:06.417122Z",
     "iopub.status.idle": "2024-09-10T11:30:06.424321Z",
     "shell.execute_reply": "2024-09-10T11:30:06.423277Z",
     "shell.execute_reply.started": "2024-09-10T11:30:06.418113Z"
    }
   },
   "outputs": [],
   "source": [
    "fruits_upper = map(lambda fruit: fruit.upper(), fruits)"
   ]
  },
  {
   "cell_type": "code",
   "execution_count": 24,
   "id": "822de446-08eb-47db-a0e6-035e64b96064",
   "metadata": {
    "execution": {
     "iopub.execute_input": "2024-09-10T11:30:15.250161Z",
     "iopub.status.busy": "2024-09-10T11:30:15.248161Z",
     "iopub.status.idle": "2024-09-10T11:30:15.259389Z",
     "shell.execute_reply": "2024-09-10T11:30:15.257347Z",
     "shell.execute_reply.started": "2024-09-10T11:30:15.249157Z"
    }
   },
   "outputs": [
    {
     "data": {
      "text/plain": [
       "['APPLE', 'ORANGE', 'PEACH', 'PEAR']"
      ]
     },
     "execution_count": 24,
     "metadata": {},
     "output_type": "execute_result"
    }
   ],
   "source": [
    "list(fruits_upper)"
   ]
  },
  {
   "cell_type": "code",
   "execution_count": 25,
   "id": "95e36533-ddfd-4b66-8b50-fdec169d5828",
   "metadata": {
    "execution": {
     "iopub.execute_input": "2024-09-10T11:33:13.299643Z",
     "iopub.status.busy": "2024-09-10T11:33:13.298664Z",
     "iopub.status.idle": "2024-09-10T11:33:13.306284Z",
     "shell.execute_reply": "2024-09-10T11:33:13.305272Z",
     "shell.execute_reply.started": "2024-09-10T11:33:13.299643Z"
    }
   },
   "outputs": [],
   "source": [
    "filtered_fruits = filter(lambda fruit: fruit.endswith('e') == True, fruits)"
   ]
  },
  {
   "cell_type": "code",
   "execution_count": 27,
   "id": "505cc4f1-1513-4550-8fe4-9a257452b719",
   "metadata": {
    "execution": {
     "iopub.execute_input": "2024-09-10T11:33:26.011203Z",
     "iopub.status.busy": "2024-09-10T11:33:26.010204Z",
     "iopub.status.idle": "2024-09-10T11:33:26.021034Z",
     "shell.execute_reply": "2024-09-10T11:33:26.019045Z",
     "shell.execute_reply.started": "2024-09-10T11:33:26.011203Z"
    }
   },
   "outputs": [
    {
     "data": {
      "text/plain": [
       "['Apple', 'Orange']"
      ]
     },
     "execution_count": 27,
     "metadata": {},
     "output_type": "execute_result"
    }
   ],
   "source": [
    "list(filtered_fruits)"
   ]
  },
  {
   "cell_type": "code",
   "execution_count": 30,
   "id": "9954e97a-bdba-4cf8-93ad-a99f6342dba4",
   "metadata": {
    "execution": {
     "iopub.execute_input": "2024-09-10T11:34:36.088808Z",
     "iopub.status.busy": "2024-09-10T11:34:36.087807Z",
     "iopub.status.idle": "2024-09-10T11:34:36.096069Z",
     "shell.execute_reply": "2024-09-10T11:34:36.095026Z",
     "shell.execute_reply.started": "2024-09-10T11:34:36.088808Z"
    }
   },
   "outputs": [],
   "source": [
    "filtered_fruits_second = filter(lambda fruit: fruit.startswith('P') == False, fruits)"
   ]
  },
  {
   "cell_type": "code",
   "execution_count": 31,
   "id": "f3d02410-fcd3-4bce-9935-94971d569242",
   "metadata": {
    "execution": {
     "iopub.execute_input": "2024-09-10T11:34:36.549491Z",
     "iopub.status.busy": "2024-09-10T11:34:36.548507Z",
     "iopub.status.idle": "2024-09-10T11:34:36.559493Z",
     "shell.execute_reply": "2024-09-10T11:34:36.558491Z",
     "shell.execute_reply.started": "2024-09-10T11:34:36.549491Z"
    }
   },
   "outputs": [
    {
     "data": {
      "text/plain": [
       "['Apple', 'Orange']"
      ]
     },
     "execution_count": 31,
     "metadata": {},
     "output_type": "execute_result"
    }
   ],
   "source": [
    "list(filtered_fruits_second)"
   ]
  },
  {
   "cell_type": "code",
   "execution_count": 58,
   "id": "24e83910-13af-4aa6-8891-acce8caf8028",
   "metadata": {
    "execution": {
     "iopub.execute_input": "2024-09-10T11:45:00.475039Z",
     "iopub.status.busy": "2024-09-10T11:45:00.474028Z",
     "iopub.status.idle": "2024-09-10T11:45:00.481431Z",
     "shell.execute_reply": "2024-09-10T11:45:00.480413Z",
     "shell.execute_reply.started": "2024-09-10T11:45:00.475039Z"
    }
   },
   "outputs": [],
   "source": [
    "filtered_fruits_price = filter(lambda item: item[1] > 2, fruits_price.items())"
   ]
  },
  {
   "cell_type": "code",
   "execution_count": 59,
   "id": "12f0271a-a31a-4a7c-a928-b38f059158fd",
   "metadata": {
    "execution": {
     "iopub.execute_input": "2024-09-10T11:45:00.751078Z",
     "iopub.status.busy": "2024-09-10T11:45:00.750079Z",
     "iopub.status.idle": "2024-09-10T11:45:00.757444Z",
     "shell.execute_reply": "2024-09-10T11:45:00.756417Z",
     "shell.execute_reply.started": "2024-09-10T11:45:00.751078Z"
    }
   },
   "outputs": [],
   "source": [
    "filtered_fruits_price_list = list(filtered_fruits_price)"
   ]
  },
  {
   "cell_type": "code",
   "execution_count": 60,
   "id": "007c9b22-3781-418d-9536-4bd862515faf",
   "metadata": {
    "execution": {
     "iopub.execute_input": "2024-09-10T11:45:01.066255Z",
     "iopub.status.busy": "2024-09-10T11:45:01.065258Z",
     "iopub.status.idle": "2024-09-10T11:45:01.075739Z",
     "shell.execute_reply": "2024-09-10T11:45:01.074719Z",
     "shell.execute_reply.started": "2024-09-10T11:45:01.066255Z"
    }
   },
   "outputs": [
    {
     "data": {
      "text/plain": [
       "[('Pineapple', 5), ('Apple', 3)]"
      ]
     },
     "execution_count": 60,
     "metadata": {},
     "output_type": "execute_result"
    }
   ],
   "source": [
    "filtered_fruits_price_list"
   ]
  },
  {
   "cell_type": "code",
   "execution_count": 62,
   "id": "3377d897-f024-42bc-9a3d-c710007d45a0",
   "metadata": {
    "execution": {
     "iopub.execute_input": "2024-09-10T11:45:18.127444Z",
     "iopub.status.busy": "2024-09-10T11:45:18.126445Z",
     "iopub.status.idle": "2024-09-10T11:45:18.136378Z",
     "shell.execute_reply": "2024-09-10T11:45:18.135360Z",
     "shell.execute_reply.started": "2024-09-10T11:45:18.127444Z"
    }
   },
   "outputs": [
    {
     "data": {
      "text/plain": [
       "{'Pineapple': 5, 'Apple': 3}"
      ]
     },
     "execution_count": 62,
     "metadata": {},
     "output_type": "execute_result"
    }
   ],
   "source": [
    "dict(filtered_fruits_price_list)"
   ]
  },
  {
   "cell_type": "code",
   "execution_count": 39,
   "id": "92eb0235-f1a0-435d-9cf2-263ba72e983b",
   "metadata": {
    "execution": {
     "iopub.execute_input": "2024-09-10T11:41:09.467579Z",
     "iopub.status.busy": "2024-09-10T11:41:09.466578Z",
     "iopub.status.idle": "2024-09-10T11:41:09.473946Z",
     "shell.execute_reply": "2024-09-10T11:41:09.472931Z",
     "shell.execute_reply.started": "2024-09-10T11:41:09.467579Z"
    }
   },
   "outputs": [],
   "source": [
    "ucls = {\"Real Madrid\": 15, \"Bayern Munich\": 6, \"Chelsea\": 2}"
   ]
  },
  {
   "cell_type": "code",
   "execution_count": 52,
   "id": "77058736-cfd3-47dc-8f8e-359ec8441748",
   "metadata": {
    "execution": {
     "iopub.execute_input": "2024-09-10T11:44:07.244462Z",
     "iopub.status.busy": "2024-09-10T11:44:07.243461Z",
     "iopub.status.idle": "2024-09-10T11:44:07.251081Z",
     "shell.execute_reply": "2024-09-10T11:44:07.250053Z",
     "shell.execute_reply.started": "2024-09-10T11:44:07.244462Z"
    }
   },
   "outputs": [],
   "source": [
    "filtered_ucls = filter(lambda total: total[1] > 5, ucls.items())"
   ]
  },
  {
   "cell_type": "code",
   "execution_count": 53,
   "id": "65fee0b3-1cc1-48d7-98b4-2bcaa46f5cbb",
   "metadata": {
    "execution": {
     "iopub.execute_input": "2024-09-10T11:44:07.697111Z",
     "iopub.status.busy": "2024-09-10T11:44:07.696118Z",
     "iopub.status.idle": "2024-09-10T11:44:07.703182Z",
     "shell.execute_reply": "2024-09-10T11:44:07.702153Z",
     "shell.execute_reply.started": "2024-09-10T11:44:07.697111Z"
    }
   },
   "outputs": [],
   "source": [
    "filtered_ucls_list = list(filtered_ucls)"
   ]
  },
  {
   "cell_type": "code",
   "execution_count": 54,
   "id": "bd5dd30d-fac6-4665-9da4-c88b51b80305",
   "metadata": {
    "execution": {
     "iopub.execute_input": "2024-09-10T11:44:08.144123Z",
     "iopub.status.busy": "2024-09-10T11:44:08.143126Z",
     "iopub.status.idle": "2024-09-10T11:44:08.152821Z",
     "shell.execute_reply": "2024-09-10T11:44:08.151797Z",
     "shell.execute_reply.started": "2024-09-10T11:44:08.144123Z"
    }
   },
   "outputs": [
    {
     "data": {
      "text/plain": [
       "[('Real Madrid', 15), ('Bayern Munich', 6)]"
      ]
     },
     "execution_count": 54,
     "metadata": {},
     "output_type": "execute_result"
    }
   ],
   "source": [
    "filtered_ucls_list"
   ]
  },
  {
   "cell_type": "code",
   "execution_count": 55,
   "id": "328c62b5-e7de-45de-96e5-ea4092604253",
   "metadata": {
    "execution": {
     "iopub.execute_input": "2024-09-10T11:44:17.628245Z",
     "iopub.status.busy": "2024-09-10T11:44:17.627235Z",
     "iopub.status.idle": "2024-09-10T11:44:17.637536Z",
     "shell.execute_reply": "2024-09-10T11:44:17.636511Z",
     "shell.execute_reply.started": "2024-09-10T11:44:17.628245Z"
    }
   },
   "outputs": [
    {
     "data": {
      "text/plain": [
       "{'Real Madrid': 15, 'Bayern Munich': 6}"
      ]
     },
     "execution_count": 55,
     "metadata": {},
     "output_type": "execute_result"
    }
   ],
   "source": [
    "dict(filtered_ucls_list)"
   ]
  },
  {
   "cell_type": "code",
   "execution_count": 65,
   "id": "ca4737cd-4214-4d42-8fef-a1017c8af00a",
   "metadata": {
    "execution": {
     "iopub.execute_input": "2024-09-10T11:46:43.572135Z",
     "iopub.status.busy": "2024-09-10T11:46:43.571136Z",
     "iopub.status.idle": "2024-09-10T11:46:43.600754Z",
     "shell.execute_reply": "2024-09-10T11:46:43.598728Z",
     "shell.execute_reply.started": "2024-09-10T11:46:43.572135Z"
    }
   },
   "outputs": [
    {
     "ename": "AttributeError",
     "evalue": "'list' object has no attribute 'next'",
     "output_type": "error",
     "traceback": [
      "\u001b[1;31m---------------------------------------------------------------------------\u001b[0m",
      "\u001b[1;31mAttributeError\u001b[0m                            Traceback (most recent call last)",
      "Cell \u001b[1;32mIn[65], line 1\u001b[0m\n\u001b[1;32m----> 1\u001b[0m \u001b[43mfiltered_ucls_list\u001b[49m\u001b[38;5;241;43m.\u001b[39;49m\u001b[43mnext\u001b[49m()\n",
      "\u001b[1;31mAttributeError\u001b[0m: 'list' object has no attribute 'next'"
     ]
    }
   ],
   "source": [
    "filtered_ucls_list.next()"
   ]
  },
  {
   "cell_type": "code",
   "execution_count": 66,
   "id": "a61cea9c-ae02-4723-86f2-9bb996d81899",
   "metadata": {
    "execution": {
     "iopub.execute_input": "2024-09-10T11:46:44.919856Z",
     "iopub.status.busy": "2024-09-10T11:46:44.918867Z",
     "iopub.status.idle": "2024-09-10T11:46:44.954449Z",
     "shell.execute_reply": "2024-09-10T11:46:44.951430Z",
     "shell.execute_reply.started": "2024-09-10T11:46:44.919856Z"
    }
   },
   "outputs": [
    {
     "ename": "NameError",
     "evalue": "name 'filtered_ucsl_list' is not defined",
     "output_type": "error",
     "traceback": [
      "\u001b[1;31m---------------------------------------------------------------------------\u001b[0m",
      "\u001b[1;31mNameError\u001b[0m                                 Traceback (most recent call last)",
      "Cell \u001b[1;32mIn[66], line 1\u001b[0m\n\u001b[1;32m----> 1\u001b[0m \u001b[43mfiltered_ucsl_list\u001b[49m\u001b[38;5;241m.\u001b[39m\u001b[38;5;21m__next__\u001b[39m()\n",
      "\u001b[1;31mNameError\u001b[0m: name 'filtered_ucsl_list' is not defined"
     ]
    }
   ],
   "source": [
    "filtered_ucsl_list.__next__()"
   ]
  },
  {
   "cell_type": "code",
   "execution_count": 75,
   "id": "e1333d79-50f5-46b9-9a1e-780c454d366a",
   "metadata": {
    "execution": {
     "iopub.execute_input": "2024-09-10T11:48:17.925817Z",
     "iopub.status.busy": "2024-09-10T11:48:17.924818Z",
     "iopub.status.idle": "2024-09-10T11:48:17.932103Z",
     "shell.execute_reply": "2024-09-10T11:48:17.931081Z",
     "shell.execute_reply.started": "2024-09-10T11:48:17.925817Z"
    }
   },
   "outputs": [],
   "source": [
    "filtered_ucls_iter = iter(filtered_ucls_list)"
   ]
  },
  {
   "cell_type": "code",
   "execution_count": 76,
   "id": "91822548-8fc2-49b6-af18-6c571e36756c",
   "metadata": {
    "execution": {
     "iopub.execute_input": "2024-09-10T11:48:18.577037Z",
     "iopub.status.busy": "2024-09-10T11:48:18.576057Z",
     "iopub.status.idle": "2024-09-10T11:48:18.585940Z",
     "shell.execute_reply": "2024-09-10T11:48:18.584899Z",
     "shell.execute_reply.started": "2024-09-10T11:48:18.577037Z"
    }
   },
   "outputs": [
    {
     "data": {
      "text/plain": [
       "<list_iterator at 0x29e83258f70>"
      ]
     },
     "execution_count": 76,
     "metadata": {},
     "output_type": "execute_result"
    }
   ],
   "source": [
    "filtered_ucls_iter"
   ]
  },
  {
   "cell_type": "code",
   "execution_count": 79,
   "id": "3d0e94e3-0978-411f-a1c9-bd8ce01079b0",
   "metadata": {
    "execution": {
     "iopub.execute_input": "2024-09-10T11:48:32.470576Z",
     "iopub.status.busy": "2024-09-10T11:48:32.469598Z",
     "iopub.status.idle": "2024-09-10T11:48:32.479478Z",
     "shell.execute_reply": "2024-09-10T11:48:32.478475Z",
     "shell.execute_reply.started": "2024-09-10T11:48:32.470576Z"
    }
   },
   "outputs": [
    {
     "data": {
      "text/plain": [
       "('Real Madrid', 15)"
      ]
     },
     "execution_count": 79,
     "metadata": {},
     "output_type": "execute_result"
    }
   ],
   "source": [
    "filtered_ucls_iter.__next__()"
   ]
  },
  {
   "cell_type": "code",
   "execution_count": 80,
   "id": "5b8d3367-ae7a-43ac-a5e1-78f6e11c8610",
   "metadata": {
    "execution": {
     "iopub.execute_input": "2024-09-10T11:48:42.563917Z",
     "iopub.status.busy": "2024-09-10T11:48:42.562924Z",
     "iopub.status.idle": "2024-09-10T11:48:42.573034Z",
     "shell.execute_reply": "2024-09-10T11:48:42.572018Z",
     "shell.execute_reply.started": "2024-09-10T11:48:42.563917Z"
    }
   },
   "outputs": [
    {
     "data": {
      "text/plain": [
       "('Bayern Munich', 6)"
      ]
     },
     "execution_count": 80,
     "metadata": {},
     "output_type": "execute_result"
    }
   ],
   "source": [
    "next(filtered_ucls_iter)"
   ]
  },
  {
   "cell_type": "code",
   "execution_count": 82,
   "id": "32921472-fe2b-41c0-8842-f712835c17f4",
   "metadata": {
    "execution": {
     "iopub.execute_input": "2024-09-10T11:48:58.601731Z",
     "iopub.status.busy": "2024-09-10T11:48:58.600725Z",
     "iopub.status.idle": "2024-09-10T11:48:58.635936Z",
     "shell.execute_reply": "2024-09-10T11:48:58.633933Z",
     "shell.execute_reply.started": "2024-09-10T11:48:58.601731Z"
    }
   },
   "outputs": [
    {
     "ename": "StopIteration",
     "evalue": "",
     "output_type": "error",
     "traceback": [
      "\u001b[1;31m---------------------------------------------------------------------------\u001b[0m",
      "\u001b[1;31mStopIteration\u001b[0m                             Traceback (most recent call last)",
      "Cell \u001b[1;32mIn[82], line 1\u001b[0m\n\u001b[1;32m----> 1\u001b[0m \u001b[38;5;28;43mnext\u001b[39;49m\u001b[43m(\u001b[49m\u001b[43mfiltered_ucls_iter\u001b[49m\u001b[43m)\u001b[49m\n",
      "\u001b[1;31mStopIteration\u001b[0m: "
     ]
    }
   ],
   "source": [
    "next(filtered_ucls_iter)"
   ]
  },
  {
   "cell_type": "code",
   "execution_count": 94,
   "id": "20d42a79-ba48-41b8-99d6-835c5aaf8d19",
   "metadata": {
    "execution": {
     "iopub.execute_input": "2024-09-10T11:57:49.581431Z",
     "iopub.status.busy": "2024-09-10T11:57:49.580433Z",
     "iopub.status.idle": "2024-09-10T11:57:49.587497Z",
     "shell.execute_reply": "2024-09-10T11:57:49.586471Z",
     "shell.execute_reply.started": "2024-09-10T11:57:49.581431Z"
    }
   },
   "outputs": [],
   "source": [
    "countries = [\"China\", \"India\", \"Spain\", \"US\", \"UK\", \"Italy\"]"
   ]
  },
  {
   "cell_type": "code",
   "execution_count": 99,
   "id": "d537429e-97d1-41e7-b4f4-148c232adf63",
   "metadata": {
    "execution": {
     "iopub.execute_input": "2024-09-10T11:58:20.089397Z",
     "iopub.status.busy": "2024-09-10T11:58:20.089397Z",
     "iopub.status.idle": "2024-09-10T11:58:20.096976Z",
     "shell.execute_reply": "2024-09-10T11:58:20.095949Z",
     "shell.execute_reply.started": "2024-09-10T11:58:20.089397Z"
    }
   },
   "outputs": [],
   "source": [
    "countries_mapped = map(lambda country: len(country) > 2, countries)"
   ]
  },
  {
   "cell_type": "code",
   "execution_count": 100,
   "id": "e0fd6f44-d36d-4b67-bab2-72dd5fd13077",
   "metadata": {
    "execution": {
     "iopub.execute_input": "2024-09-10T11:58:20.511872Z",
     "iopub.status.busy": "2024-09-10T11:58:20.510874Z",
     "iopub.status.idle": "2024-09-10T11:58:20.518142Z",
     "shell.execute_reply": "2024-09-10T11:58:20.517101Z",
     "shell.execute_reply.started": "2024-09-10T11:58:20.511872Z"
    }
   },
   "outputs": [],
   "source": [
    "countries_mapped_list = list(countries_mapped)"
   ]
  },
  {
   "cell_type": "code",
   "execution_count": 101,
   "id": "21291ca1-46a5-4673-88d6-bd0c22e4a208",
   "metadata": {
    "execution": {
     "iopub.execute_input": "2024-09-10T11:58:20.904838Z",
     "iopub.status.busy": "2024-09-10T11:58:20.903840Z",
     "iopub.status.idle": "2024-09-10T11:58:20.913581Z",
     "shell.execute_reply": "2024-09-10T11:58:20.912559Z",
     "shell.execute_reply.started": "2024-09-10T11:58:20.904838Z"
    }
   },
   "outputs": [
    {
     "data": {
      "text/plain": [
       "[True, True, True, False, False, True]"
      ]
     },
     "execution_count": 101,
     "metadata": {},
     "output_type": "execute_result"
    }
   ],
   "source": [
    "countries_mapped_list"
   ]
  },
  {
   "cell_type": "code",
   "execution_count": 102,
   "id": "3ca0eaa9-a2f9-41b4-bb11-e83d261b061f",
   "metadata": {
    "execution": {
     "iopub.execute_input": "2024-09-10T11:58:30.384587Z",
     "iopub.status.busy": "2024-09-10T11:58:30.383606Z",
     "iopub.status.idle": "2024-09-10T11:58:30.394348Z",
     "shell.execute_reply": "2024-09-10T11:58:30.393333Z",
     "shell.execute_reply.started": "2024-09-10T11:58:30.384587Z"
    }
   },
   "outputs": [
    {
     "data": {
      "text/plain": [
       "False"
      ]
     },
     "execution_count": 102,
     "metadata": {},
     "output_type": "execute_result"
    }
   ],
   "source": [
    "all(countries_mapped_list)"
   ]
  },
  {
   "cell_type": "code",
   "execution_count": 103,
   "id": "7d5aaf8f-ca50-4c3c-9b15-4a3719f5119d",
   "metadata": {
    "execution": {
     "iopub.execute_input": "2024-09-10T11:58:49.450230Z",
     "iopub.status.busy": "2024-09-10T11:58:49.449246Z",
     "iopub.status.idle": "2024-09-10T11:58:49.459311Z",
     "shell.execute_reply": "2024-09-10T11:58:49.458276Z",
     "shell.execute_reply.started": "2024-09-10T11:58:49.450230Z"
    }
   },
   "outputs": [
    {
     "data": {
      "text/plain": [
       "True"
      ]
     },
     "execution_count": 103,
     "metadata": {},
     "output_type": "execute_result"
    }
   ],
   "source": [
    "any(countries_mapped_list)"
   ]
  },
  {
   "cell_type": "code",
   "execution_count": 104,
   "id": "2d256a31-730d-4a5c-8ddf-77b699ce1fba",
   "metadata": {
    "execution": {
     "iopub.execute_input": "2024-09-10T12:00:38.541008Z",
     "iopub.status.busy": "2024-09-10T12:00:38.540015Z",
     "iopub.status.idle": "2024-09-10T12:00:38.547021Z",
     "shell.execute_reply": "2024-09-10T12:00:38.545999Z",
     "shell.execute_reply.started": "2024-09-10T12:00:38.541008Z"
    }
   },
   "outputs": [],
   "source": [
    "countries_mapped_second = map(lambda country: country.startswith('C'), countries)"
   ]
  },
  {
   "cell_type": "code",
   "execution_count": 105,
   "id": "c5bf88b3-a7dd-4277-9014-8d49448bafa5",
   "metadata": {
    "execution": {
     "iopub.execute_input": "2024-09-10T12:00:57.623409Z",
     "iopub.status.busy": "2024-09-10T12:00:57.622401Z",
     "iopub.status.idle": "2024-09-10T12:00:57.630724Z",
     "shell.execute_reply": "2024-09-10T12:00:57.628698Z",
     "shell.execute_reply.started": "2024-09-10T12:00:57.623409Z"
    }
   },
   "outputs": [],
   "source": [
    "countries_second = list(countries_mapped_second)"
   ]
  },
  {
   "cell_type": "code",
   "execution_count": 106,
   "id": "b54e1352-a8c0-417c-af7a-e10dcfdc1a4c",
   "metadata": {
    "execution": {
     "iopub.execute_input": "2024-09-10T12:01:03.753211Z",
     "iopub.status.busy": "2024-09-10T12:01:03.752216Z",
     "iopub.status.idle": "2024-09-10T12:01:03.761120Z",
     "shell.execute_reply": "2024-09-10T12:01:03.760096Z",
     "shell.execute_reply.started": "2024-09-10T12:01:03.753211Z"
    }
   },
   "outputs": [
    {
     "data": {
      "text/plain": [
       "[True, False, False, False, False, False]"
      ]
     },
     "execution_count": 106,
     "metadata": {},
     "output_type": "execute_result"
    }
   ],
   "source": [
    "countries_second"
   ]
  },
  {
   "cell_type": "code",
   "execution_count": 107,
   "id": "5b05d075-b49d-4a63-885e-f5300bbdf3b8",
   "metadata": {
    "execution": {
     "iopub.execute_input": "2024-09-10T12:01:24.772063Z",
     "iopub.status.busy": "2024-09-10T12:01:24.771063Z",
     "iopub.status.idle": "2024-09-10T12:01:24.780703Z",
     "shell.execute_reply": "2024-09-10T12:01:24.779685Z",
     "shell.execute_reply.started": "2024-09-10T12:01:24.772063Z"
    }
   },
   "outputs": [
    {
     "data": {
      "text/plain": [
       "True"
      ]
     },
     "execution_count": 107,
     "metadata": {},
     "output_type": "execute_result"
    }
   ],
   "source": [
    "any(countries_second)"
   ]
  },
  {
   "cell_type": "code",
   "execution_count": 108,
   "id": "5fadbdff-bb62-4b45-a3ab-4f4ab4a1d6f2",
   "metadata": {
    "execution": {
     "iopub.execute_input": "2024-09-10T12:01:32.393258Z",
     "iopub.status.busy": "2024-09-10T12:01:32.392253Z",
     "iopub.status.idle": "2024-09-10T12:01:32.401614Z",
     "shell.execute_reply": "2024-09-10T12:01:32.400586Z",
     "shell.execute_reply.started": "2024-09-10T12:01:32.393258Z"
    }
   },
   "outputs": [
    {
     "data": {
      "text/plain": [
       "False"
      ]
     },
     "execution_count": 108,
     "metadata": {},
     "output_type": "execute_result"
    }
   ],
   "source": [
    "all(countries_second)"
   ]
  },
  {
   "cell_type": "code",
   "execution_count": null,
   "id": "ca64af10-d3d6-4dc1-8c27-e68ffd153fd1",
   "metadata": {},
   "outputs": [],
   "source": []
  }
 ],
 "metadata": {
  "kernelspec": {
   "display_name": "Python 3 (ipykernel)",
   "language": "python",
   "name": "python3"
  },
  "language_info": {
   "codemirror_mode": {
    "name": "ipython",
    "version": 3
   },
   "file_extension": ".py",
   "mimetype": "text/x-python",
   "name": "python",
   "nbconvert_exporter": "python",
   "pygments_lexer": "ipython3",
   "version": "3.12.5"
  }
 },
 "nbformat": 4,
 "nbformat_minor": 5
}
