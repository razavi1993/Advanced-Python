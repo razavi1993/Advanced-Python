{
 "cells": [
  {
   "cell_type": "code",
   "execution_count": 2,
   "id": "dc07eaf0-4a65-4c06-8615-1a14b7ffb115",
   "metadata": {
    "execution": {
     "iopub.execute_input": "2024-09-10T12:16:42.630281Z",
     "iopub.status.busy": "2024-09-10T12:16:42.629279Z",
     "iopub.status.idle": "2024-09-10T12:16:42.636693Z",
     "shell.execute_reply": "2024-09-10T12:16:42.635669Z",
     "shell.execute_reply.started": "2024-09-10T12:16:42.630281Z"
    }
   },
   "outputs": [],
   "source": [
    "frozen = frozenset([1,2,5,6])"
   ]
  },
  {
   "cell_type": "code",
   "execution_count": 3,
   "id": "03a695fd-2f0e-499b-9816-6a8bc9b854a8",
   "metadata": {
    "execution": {
     "iopub.execute_input": "2024-09-10T12:16:43.572149Z",
     "iopub.status.busy": "2024-09-10T12:16:43.571164Z",
     "iopub.status.idle": "2024-09-10T12:16:43.585853Z",
     "shell.execute_reply": "2024-09-10T12:16:43.584851Z",
     "shell.execute_reply.started": "2024-09-10T12:16:43.572149Z"
    }
   },
   "outputs": [
    {
     "data": {
      "text/plain": [
       "frozenset({1, 2, 5, 6})"
      ]
     },
     "execution_count": 3,
     "metadata": {},
     "output_type": "execute_result"
    }
   ],
   "source": [
    "frozen"
   ]
  },
  {
   "cell_type": "code",
   "execution_count": 4,
   "id": "8e0f50ca-1775-4ea8-984b-05cc1bb05dca",
   "metadata": {
    "execution": {
     "iopub.execute_input": "2024-09-10T12:16:56.965524Z",
     "iopub.status.busy": "2024-09-10T12:16:56.964514Z",
     "iopub.status.idle": "2024-09-10T12:16:56.971835Z",
     "shell.execute_reply": "2024-09-10T12:16:56.970821Z",
     "shell.execute_reply.started": "2024-09-10T12:16:56.965524Z"
    }
   },
   "outputs": [],
   "source": [
    "myset = set()"
   ]
  },
  {
   "cell_type": "code",
   "execution_count": 5,
   "id": "b680e481-bd45-4755-b5d5-e1f594447f20",
   "metadata": {
    "execution": {
     "iopub.execute_input": "2024-09-10T12:17:00.685374Z",
     "iopub.status.busy": "2024-09-10T12:17:00.684374Z",
     "iopub.status.idle": "2024-09-10T12:17:00.694536Z",
     "shell.execute_reply": "2024-09-10T12:17:00.693518Z",
     "shell.execute_reply.started": "2024-09-10T12:17:00.685374Z"
    }
   },
   "outputs": [
    {
     "data": {
      "text/plain": [
       "set()"
      ]
     },
     "execution_count": 5,
     "metadata": {},
     "output_type": "execute_result"
    }
   ],
   "source": [
    "myset"
   ]
  },
  {
   "cell_type": "code",
   "execution_count": 6,
   "id": "a3381c4f-94ec-410d-9032-c8c7e6fd5d9e",
   "metadata": {
    "execution": {
     "iopub.execute_input": "2024-09-10T12:17:10.930497Z",
     "iopub.status.busy": "2024-09-10T12:17:10.929517Z",
     "iopub.status.idle": "2024-09-10T12:17:11.495628Z",
     "shell.execute_reply": "2024-09-10T12:17:11.493613Z",
     "shell.execute_reply.started": "2024-09-10T12:17:10.930497Z"
    }
   },
   "outputs": [
    {
     "ename": "TypeError",
     "evalue": "unhashable type: 'set'",
     "output_type": "error",
     "traceback": [
      "\u001b[1;31m---------------------------------------------------------------------------\u001b[0m",
      "\u001b[1;31mTypeError\u001b[0m                                 Traceback (most recent call last)",
      "Cell \u001b[1;32mIn[6], line 1\u001b[0m\n\u001b[1;32m----> 1\u001b[0m \u001b[43mmyset\u001b[49m\u001b[38;5;241;43m.\u001b[39;49m\u001b[43madd\u001b[49m\u001b[43m(\u001b[49m\u001b[43m{\u001b[49m\u001b[38;5;241;43m3\u001b[39;49m\u001b[43m,\u001b[49m\u001b[38;5;241;43m4\u001b[39;49m\u001b[43m,\u001b[49m\u001b[38;5;241;43m5\u001b[39;49m\u001b[43m}\u001b[49m\u001b[43m)\u001b[49m\n",
      "\u001b[1;31mTypeError\u001b[0m: unhashable type: 'set'"
     ]
    }
   ],
   "source": [
    "myset.add({3,4,5})"
   ]
  },
  {
   "cell_type": "code",
   "execution_count": 7,
   "id": "ac2d4563-7730-46a3-91cb-c0b17e966e02",
   "metadata": {
    "execution": {
     "iopub.execute_input": "2024-09-10T12:17:20.796634Z",
     "iopub.status.busy": "2024-09-10T12:17:20.795640Z",
     "iopub.status.idle": "2024-09-10T12:17:20.803127Z",
     "shell.execute_reply": "2024-09-10T12:17:20.802111Z",
     "shell.execute_reply.started": "2024-09-10T12:17:20.796634Z"
    }
   },
   "outputs": [],
   "source": [
    "myset.add(frozen)"
   ]
  },
  {
   "cell_type": "code",
   "execution_count": 8,
   "id": "b1a52e17-0135-4a51-91f8-008b466f7f2c",
   "metadata": {
    "execution": {
     "iopub.execute_input": "2024-09-10T12:17:23.362759Z",
     "iopub.status.busy": "2024-09-10T12:17:23.360734Z",
     "iopub.status.idle": "2024-09-10T12:17:23.370709Z",
     "shell.execute_reply": "2024-09-10T12:17:23.369682Z",
     "shell.execute_reply.started": "2024-09-10T12:17:23.362759Z"
    }
   },
   "outputs": [
    {
     "data": {
      "text/plain": [
       "{frozenset({1, 2, 5, 6})}"
      ]
     },
     "execution_count": 8,
     "metadata": {},
     "output_type": "execute_result"
    }
   ],
   "source": [
    "myset"
   ]
  },
  {
   "cell_type": "code",
   "execution_count": 9,
   "id": "39c712f9-c7c4-49c3-a4a7-914530c30a69",
   "metadata": {
    "execution": {
     "iopub.execute_input": "2024-09-10T12:17:48.768570Z",
     "iopub.status.busy": "2024-09-10T12:17:48.768570Z",
     "iopub.status.idle": "2024-09-10T12:17:48.776396Z",
     "shell.execute_reply": "2024-09-10T12:17:48.774368Z",
     "shell.execute_reply.started": "2024-09-10T12:17:48.768570Z"
    }
   },
   "outputs": [],
   "source": [
    "frozen_second = frozenset([7,8,9])"
   ]
  },
  {
   "cell_type": "code",
   "execution_count": 10,
   "id": "75d9cc98-b7d4-4256-8688-b4ce62541af7",
   "metadata": {
    "execution": {
     "iopub.execute_input": "2024-09-10T12:17:58.837486Z",
     "iopub.status.busy": "2024-09-10T12:17:58.836459Z",
     "iopub.status.idle": "2024-09-10T12:17:58.843904Z",
     "shell.execute_reply": "2024-09-10T12:17:58.842885Z",
     "shell.execute_reply.started": "2024-09-10T12:17:58.837486Z"
    }
   },
   "outputs": [],
   "source": [
    "myset.add(frozen_second)"
   ]
  },
  {
   "cell_type": "code",
   "execution_count": 11,
   "id": "3d835abb-ce77-435c-b311-9cc0ac1de104",
   "metadata": {
    "execution": {
     "iopub.execute_input": "2024-09-10T12:18:05.526609Z",
     "iopub.status.busy": "2024-09-10T12:18:05.525610Z",
     "iopub.status.idle": "2024-09-10T12:18:05.535400Z",
     "shell.execute_reply": "2024-09-10T12:18:05.534374Z",
     "shell.execute_reply.started": "2024-09-10T12:18:05.526609Z"
    }
   },
   "outputs": [
    {
     "data": {
      "text/plain": [
       "{frozenset({7, 8, 9}), frozenset({1, 2, 5, 6})}"
      ]
     },
     "execution_count": 11,
     "metadata": {},
     "output_type": "execute_result"
    }
   ],
   "source": [
    "myset"
   ]
  },
  {
   "cell_type": "code",
   "execution_count": 15,
   "id": "bf316072-8be7-4e5d-a778-5a8152ea8289",
   "metadata": {
    "execution": {
     "iopub.execute_input": "2024-09-10T12:19:51.229524Z",
     "iopub.status.busy": "2024-09-10T12:19:51.228544Z",
     "iopub.status.idle": "2024-09-10T12:19:51.258326Z",
     "shell.execute_reply": "2024-09-10T12:19:51.256299Z",
     "shell.execute_reply.started": "2024-09-10T12:19:51.229524Z"
    }
   },
   "outputs": [
    {
     "ename": "TypeError",
     "evalue": "unhashable type: 'set'",
     "output_type": "error",
     "traceback": [
      "\u001b[1;31m---------------------------------------------------------------------------\u001b[0m",
      "\u001b[1;31mTypeError\u001b[0m                                 Traceback (most recent call last)",
      "Cell \u001b[1;32mIn[15], line 1\u001b[0m\n\u001b[1;32m----> 1\u001b[0m frozen_dict \u001b[38;5;241m=\u001b[39m {{\u001b[38;5;241m4\u001b[39m,\u001b[38;5;241m5\u001b[39m,\u001b[38;5;241m6\u001b[39m}: \u001b[38;5;241m8\u001b[39m}\n",
      "\u001b[1;31mTypeError\u001b[0m: unhashable type: 'set'"
     ]
    }
   ],
   "source": [
    "frozen_dict = {{4,5,6}: 8}"
   ]
  },
  {
   "cell_type": "code",
   "execution_count": 16,
   "id": "866ed2ef-4015-4259-92c0-425d529360be",
   "metadata": {
    "execution": {
     "iopub.execute_input": "2024-09-10T12:20:18.860625Z",
     "iopub.status.busy": "2024-09-10T12:20:18.859625Z",
     "iopub.status.idle": "2024-09-10T12:20:18.866556Z",
     "shell.execute_reply": "2024-09-10T12:20:18.865542Z",
     "shell.execute_reply.started": "2024-09-10T12:20:18.860625Z"
    }
   },
   "outputs": [],
   "source": [
    "frozen_dict_second = {frozenset([4,5,6]): 8}"
   ]
  },
  {
   "cell_type": "code",
   "execution_count": 17,
   "id": "cc5c0bea-41af-46ce-8402-c54fe89d5e28",
   "metadata": {
    "execution": {
     "iopub.execute_input": "2024-09-10T12:20:27.869783Z",
     "iopub.status.busy": "2024-09-10T12:20:27.868786Z",
     "iopub.status.idle": "2024-09-10T12:20:27.883126Z",
     "shell.execute_reply": "2024-09-10T12:20:27.881109Z",
     "shell.execute_reply.started": "2024-09-10T12:20:27.869783Z"
    }
   },
   "outputs": [
    {
     "data": {
      "text/plain": [
       "{frozenset({4, 5, 6}): 8}"
      ]
     },
     "execution_count": 17,
     "metadata": {},
     "output_type": "execute_result"
    }
   ],
   "source": [
    "frozen_dict_second"
   ]
  },
  {
   "cell_type": "code",
   "execution_count": 18,
   "id": "3e82ec45-84e8-4b01-a9bf-2b2d68eb0dc4",
   "metadata": {
    "execution": {
     "iopub.execute_input": "2024-09-10T12:44:59.005543Z",
     "iopub.status.busy": "2024-09-10T12:44:59.004562Z",
     "iopub.status.idle": "2024-09-10T12:45:00.098829Z",
     "shell.execute_reply": "2024-09-10T12:45:00.097808Z",
     "shell.execute_reply.started": "2024-09-10T12:44:59.005543Z"
    }
   },
   "outputs": [],
   "source": [
    "import numpy as np"
   ]
  },
  {
   "cell_type": "code",
   "execution_count": 19,
   "id": "20971d15-1e37-4d87-9d52-67161d24d864",
   "metadata": {
    "execution": {
     "iopub.execute_input": "2024-09-10T12:45:27.171800Z",
     "iopub.status.busy": "2024-09-10T12:45:27.170800Z",
     "iopub.status.idle": "2024-09-10T12:45:27.179450Z",
     "shell.execute_reply": "2024-09-10T12:45:27.178412Z",
     "shell.execute_reply.started": "2024-09-10T12:45:27.171800Z"
    }
   },
   "outputs": [],
   "source": [
    "def to_np(*args):\n",
    "    return np.array(args)"
   ]
  },
  {
   "cell_type": "code",
   "execution_count": 20,
   "id": "35de10f5-53fe-421e-8d1a-9d9143c71fd9",
   "metadata": {
    "execution": {
     "iopub.execute_input": "2024-09-10T12:45:40.335195Z",
     "iopub.status.busy": "2024-09-10T12:45:40.334194Z",
     "iopub.status.idle": "2024-09-10T12:45:40.345893Z",
     "shell.execute_reply": "2024-09-10T12:45:40.344868Z",
     "shell.execute_reply.started": "2024-09-10T12:45:40.335195Z"
    }
   },
   "outputs": [
    {
     "data": {
      "text/plain": [
       "array([1, 3, 5, 7, 9])"
      ]
     },
     "execution_count": 20,
     "metadata": {},
     "output_type": "execute_result"
    }
   ],
   "source": [
    "to_np(1,3,5,7,9)"
   ]
  },
  {
   "cell_type": "code",
   "execution_count": 23,
   "id": "664ff075-2e95-493e-81f7-e255a823a6b6",
   "metadata": {
    "execution": {
     "iopub.execute_input": "2024-09-10T12:46:46.889782Z",
     "iopub.status.busy": "2024-09-10T12:46:46.889782Z",
     "iopub.status.idle": "2024-09-10T12:46:46.896926Z",
     "shell.execute_reply": "2024-09-10T12:46:46.895935Z",
     "shell.execute_reply.started": "2024-09-10T12:46:46.889782Z"
    }
   },
   "outputs": [],
   "source": [
    "def log_np(*args):\n",
    "    return np.log(args)"
   ]
  },
  {
   "cell_type": "code",
   "execution_count": 24,
   "id": "6f9c7855-5a2a-498e-85f4-2dcf4aa82295",
   "metadata": {
    "execution": {
     "iopub.execute_input": "2024-09-10T12:46:47.254793Z",
     "iopub.status.busy": "2024-09-10T12:46:47.253820Z",
     "iopub.status.idle": "2024-09-10T12:46:47.264760Z",
     "shell.execute_reply": "2024-09-10T12:46:47.263744Z",
     "shell.execute_reply.started": "2024-09-10T12:46:47.254793Z"
    }
   },
   "outputs": [
    {
     "data": {
      "text/plain": [
       "array([0.        , 1.5040774 , 2.30258509])"
      ]
     },
     "execution_count": 24,
     "metadata": {},
     "output_type": "execute_result"
    }
   ],
   "source": [
    "log_np(1,4.5,10)"
   ]
  },
  {
   "cell_type": "code",
   "execution_count": 25,
   "id": "4371581c-d133-4449-95af-af0da75f5793",
   "metadata": {
    "execution": {
     "iopub.execute_input": "2024-09-10T12:47:48.155297Z",
     "iopub.status.busy": "2024-09-10T12:47:48.153297Z",
     "iopub.status.idle": "2024-09-10T12:47:48.162457Z",
     "shell.execute_reply": "2024-09-10T12:47:48.160423Z",
     "shell.execute_reply.started": "2024-09-10T12:47:48.154318Z"
    }
   },
   "outputs": [],
   "source": [
    "def sum_salaries(**kwargs):\n",
    "    return sum(kwargs.values())"
   ]
  },
  {
   "cell_type": "code",
   "execution_count": 27,
   "id": "6bf44b2a-7204-49ce-b8fa-aa84ffce26f4",
   "metadata": {
    "execution": {
     "iopub.execute_input": "2024-09-10T12:48:52.211772Z",
     "iopub.status.busy": "2024-09-10T12:48:52.209797Z",
     "iopub.status.idle": "2024-09-10T12:48:52.221062Z",
     "shell.execute_reply": "2024-09-10T12:48:52.219047Z",
     "shell.execute_reply.started": "2024-09-10T12:48:52.211772Z"
    }
   },
   "outputs": [
    {
     "data": {
      "text/plain": [
       "380000"
      ]
     },
     "execution_count": 27,
     "metadata": {},
     "output_type": "execute_result"
    }
   ],
   "source": [
    "sum_salaries(manager=200000, secretary=60000, programmer=120000)"
   ]
  },
  {
   "cell_type": "code",
   "execution_count": 28,
   "id": "347dc639-9918-4f44-995c-338c5ecd4bbf",
   "metadata": {
    "execution": {
     "iopub.execute_input": "2024-09-10T12:52:20.854851Z",
     "iopub.status.busy": "2024-09-10T12:52:20.853858Z",
     "iopub.status.idle": "2024-09-10T12:52:20.860955Z",
     "shell.execute_reply": "2024-09-10T12:52:20.859930Z",
     "shell.execute_reply.started": "2024-09-10T12:52:20.854851Z"
    }
   },
   "outputs": [],
   "source": [
    "from collections import Counter"
   ]
  },
  {
   "cell_type": "code",
   "execution_count": 29,
   "id": "ecc20955-e500-4c0d-aa39-0b16b86aa21e",
   "metadata": {
    "execution": {
     "iopub.execute_input": "2024-09-10T12:53:57.998730Z",
     "iopub.status.busy": "2024-09-10T12:53:57.996734Z",
     "iopub.status.idle": "2024-09-10T12:53:58.006216Z",
     "shell.execute_reply": "2024-09-10T12:53:58.004220Z",
     "shell.execute_reply.started": "2024-09-10T12:53:57.998730Z"
    }
   },
   "outputs": [],
   "source": [
    "players = [\"football\", \"basketball\", \"football\", \"basketball\", \"handball\", \"handball\", \"football\", \"wrestling\"]"
   ]
  },
  {
   "cell_type": "code",
   "execution_count": 30,
   "id": "59202421-92e4-49db-8757-45c8667a5d4f",
   "metadata": {
    "execution": {
     "iopub.execute_input": "2024-09-10T12:54:08.927969Z",
     "iopub.status.busy": "2024-09-10T12:54:08.926955Z",
     "iopub.status.idle": "2024-09-10T12:54:08.935131Z",
     "shell.execute_reply": "2024-09-10T12:54:08.933106Z",
     "shell.execute_reply.started": "2024-09-10T12:54:08.927969Z"
    }
   },
   "outputs": [],
   "source": [
    "counts = Counter(players)"
   ]
  },
  {
   "cell_type": "code",
   "execution_count": 31,
   "id": "4da952a2-f1b3-49d0-8929-bf252aad7473",
   "metadata": {
    "execution": {
     "iopub.execute_input": "2024-09-10T12:54:14.097917Z",
     "iopub.status.busy": "2024-09-10T12:54:14.095928Z",
     "iopub.status.idle": "2024-09-10T12:54:14.106493Z",
     "shell.execute_reply": "2024-09-10T12:54:14.105469Z",
     "shell.execute_reply.started": "2024-09-10T12:54:14.097917Z"
    }
   },
   "outputs": [
    {
     "data": {
      "text/plain": [
       "Counter({'football': 3, 'basketball': 2, 'handball': 2, 'wrestling': 1})"
      ]
     },
     "execution_count": 31,
     "metadata": {},
     "output_type": "execute_result"
    }
   ],
   "source": [
    "counts"
   ]
  },
  {
   "cell_type": "code",
   "execution_count": 35,
   "id": "f6663e2b-3b60-4b44-8268-9bedae9c9318",
   "metadata": {
    "execution": {
     "iopub.execute_input": "2024-09-10T12:55:13.165681Z",
     "iopub.status.busy": "2024-09-10T12:55:13.163689Z",
     "iopub.status.idle": "2024-09-10T12:55:13.174127Z",
     "shell.execute_reply": "2024-09-10T12:55:13.173130Z",
     "shell.execute_reply.started": "2024-09-10T12:55:13.165681Z"
    }
   },
   "outputs": [
    {
     "data": {
      "text/plain": [
       "0"
      ]
     },
     "execution_count": 35,
     "metadata": {},
     "output_type": "execute_result"
    }
   ],
   "source": [
    "counts.get(\"shooting\", 0)"
   ]
  },
  {
   "cell_type": "code",
   "execution_count": 36,
   "id": "eee35780-50b2-44a5-a72b-f067c5db08f9",
   "metadata": {
    "execution": {
     "iopub.execute_input": "2024-09-10T12:55:24.112713Z",
     "iopub.status.busy": "2024-09-10T12:55:24.111735Z",
     "iopub.status.idle": "2024-09-10T12:55:24.121304Z",
     "shell.execute_reply": "2024-09-10T12:55:24.120314Z",
     "shell.execute_reply.started": "2024-09-10T12:55:24.112713Z"
    }
   },
   "outputs": [
    {
     "data": {
      "text/plain": [
       "3"
      ]
     },
     "execution_count": 36,
     "metadata": {},
     "output_type": "execute_result"
    }
   ],
   "source": [
    "counts.get(\"football\", 0)"
   ]
  },
  {
   "cell_type": "code",
   "execution_count": 37,
   "id": "86d84d39-e360-4c30-9278-24e351aafb1e",
   "metadata": {
    "execution": {
     "iopub.execute_input": "2024-09-10T12:55:37.862421Z",
     "iopub.status.busy": "2024-09-10T12:55:37.861394Z",
     "iopub.status.idle": "2024-09-10T12:55:37.872499Z",
     "shell.execute_reply": "2024-09-10T12:55:37.871478Z",
     "shell.execute_reply.started": "2024-09-10T12:55:37.862421Z"
    }
   },
   "outputs": [
    {
     "data": {
      "text/plain": [
       "2"
      ]
     },
     "execution_count": 37,
     "metadata": {},
     "output_type": "execute_result"
    }
   ],
   "source": [
    "counts[\"basketball\"]"
   ]
  },
  {
   "cell_type": "code",
   "execution_count": 40,
   "id": "0c578f09-47a5-4a8d-aa3b-2f033d5e6b74",
   "metadata": {
    "execution": {
     "iopub.execute_input": "2024-09-10T12:55:58.213141Z",
     "iopub.status.busy": "2024-09-10T12:55:58.212126Z",
     "iopub.status.idle": "2024-09-10T12:55:58.221672Z",
     "shell.execute_reply": "2024-09-10T12:55:58.220647Z",
     "shell.execute_reply.started": "2024-09-10T12:55:58.213141Z"
    }
   },
   "outputs": [
    {
     "data": {
      "text/plain": [
       "[('football', 3), ('basketball', 2)]"
      ]
     },
     "execution_count": 40,
     "metadata": {},
     "output_type": "execute_result"
    }
   ],
   "source": [
    "counts.most_common(2)"
   ]
  },
  {
   "cell_type": "code",
   "execution_count": 41,
   "id": "8671b965-3cb1-4a1a-ae1b-4d78af11679a",
   "metadata": {
    "execution": {
     "iopub.execute_input": "2024-09-10T12:56:31.776749Z",
     "iopub.status.busy": "2024-09-10T12:56:31.775739Z",
     "iopub.status.idle": "2024-09-10T12:56:31.787461Z",
     "shell.execute_reply": "2024-09-10T12:56:31.785442Z",
     "shell.execute_reply.started": "2024-09-10T12:56:31.776749Z"
    }
   },
   "outputs": [
    {
     "data": {
      "text/plain": [
       "Counter({'n': 2,\n",
       "         'i': 2,\n",
       "         'd': 2,\n",
       "         'U': 1,\n",
       "         't': 1,\n",
       "         'e': 1,\n",
       "         ' ': 1,\n",
       "         'K': 1,\n",
       "         'g': 1,\n",
       "         'o': 1,\n",
       "         'm': 1})"
      ]
     },
     "execution_count": 41,
     "metadata": {},
     "output_type": "execute_result"
    }
   ],
   "source": [
    "Counter(\"United Kingdom\")"
   ]
  },
  {
   "cell_type": "code",
   "execution_count": 42,
   "id": "255ccc3c-b1a9-4882-a515-f726292cb27f",
   "metadata": {
    "execution": {
     "iopub.execute_input": "2024-09-10T12:57:27.275435Z",
     "iopub.status.busy": "2024-09-10T12:57:27.274427Z",
     "iopub.status.idle": "2024-09-10T12:57:27.281825Z",
     "shell.execute_reply": "2024-09-10T12:57:27.280810Z",
     "shell.execute_reply.started": "2024-09-10T12:57:27.275435Z"
    }
   },
   "outputs": [],
   "source": [
    "from itertools import accumulate"
   ]
  },
  {
   "cell_type": "code",
   "execution_count": 51,
   "id": "d5a970cc-b2de-42f5-bc93-556e605436db",
   "metadata": {
    "execution": {
     "iopub.execute_input": "2024-09-10T12:59:54.231504Z",
     "iopub.status.busy": "2024-09-10T12:59:54.230486Z",
     "iopub.status.idle": "2024-09-10T12:59:54.237881Z",
     "shell.execute_reply": "2024-09-10T12:59:54.236848Z",
     "shell.execute_reply.started": "2024-09-10T12:59:54.231504Z"
    }
   },
   "outputs": [],
   "source": [
    "from operator import mul, add"
   ]
  },
  {
   "cell_type": "code",
   "execution_count": 44,
   "id": "b2037835-5fc0-4546-accd-10c06fbcfb32",
   "metadata": {
    "execution": {
     "iopub.execute_input": "2024-09-10T12:58:04.982837Z",
     "iopub.status.busy": "2024-09-10T12:58:04.981836Z",
     "iopub.status.idle": "2024-09-10T12:58:04.988818Z",
     "shell.execute_reply": "2024-09-10T12:58:04.987796Z",
     "shell.execute_reply.started": "2024-09-10T12:58:04.982837Z"
    }
   },
   "outputs": [],
   "source": [
    "numbers = [3,4,6,2,7,8]"
   ]
  },
  {
   "cell_type": "code",
   "execution_count": 45,
   "id": "6bdd1c45-3b59-4ef9-835d-e32501718eb3",
   "metadata": {
    "execution": {
     "iopub.execute_input": "2024-09-10T12:58:33.197520Z",
     "iopub.status.busy": "2024-09-10T12:58:33.196522Z",
     "iopub.status.idle": "2024-09-10T12:58:33.203915Z",
     "shell.execute_reply": "2024-09-10T12:58:33.202899Z",
     "shell.execute_reply.started": "2024-09-10T12:58:33.197520Z"
    }
   },
   "outputs": [],
   "source": [
    "results = accumulate(numbers, mul)"
   ]
  },
  {
   "cell_type": "code",
   "execution_count": 47,
   "id": "e2aee647-f5e2-475c-a69e-bca565485ebc",
   "metadata": {
    "execution": {
     "iopub.execute_input": "2024-09-10T12:58:44.180827Z",
     "iopub.status.busy": "2024-09-10T12:58:44.180827Z",
     "iopub.status.idle": "2024-09-10T12:58:44.191801Z",
     "shell.execute_reply": "2024-09-10T12:58:44.189776Z",
     "shell.execute_reply.started": "2024-09-10T12:58:44.180827Z"
    }
   },
   "outputs": [
    {
     "data": {
      "text/plain": [
       "[3, 12, 72, 144, 1008, 8064]"
      ]
     },
     "execution_count": 47,
     "metadata": {},
     "output_type": "execute_result"
    }
   ],
   "source": [
    "list(results)"
   ]
  },
  {
   "cell_type": "code",
   "execution_count": 52,
   "id": "7e3b4c1c-159e-4939-85da-d09eca86df01",
   "metadata": {
    "execution": {
     "iopub.execute_input": "2024-09-10T12:59:57.800681Z",
     "iopub.status.busy": "2024-09-10T12:59:57.799656Z",
     "iopub.status.idle": "2024-09-10T12:59:57.808472Z",
     "shell.execute_reply": "2024-09-10T12:59:57.806449Z",
     "shell.execute_reply.started": "2024-09-10T12:59:57.800681Z"
    }
   },
   "outputs": [],
   "source": [
    "results_second = accumulate(numbers, add)"
   ]
  },
  {
   "cell_type": "code",
   "execution_count": 53,
   "id": "a2630840-a24d-4f48-a924-7cc491ef17bd",
   "metadata": {
    "execution": {
     "iopub.execute_input": "2024-09-10T12:59:58.054003Z",
     "iopub.status.busy": "2024-09-10T12:59:58.053004Z",
     "iopub.status.idle": "2024-09-10T12:59:58.064790Z",
     "shell.execute_reply": "2024-09-10T12:59:58.063770Z",
     "shell.execute_reply.started": "2024-09-10T12:59:58.054003Z"
    }
   },
   "outputs": [
    {
     "data": {
      "text/plain": [
       "[3, 7, 13, 15, 22, 30]"
      ]
     },
     "execution_count": 53,
     "metadata": {},
     "output_type": "execute_result"
    }
   ],
   "source": [
    "list(results_second)"
   ]
  },
  {
   "cell_type": "code",
   "execution_count": 54,
   "id": "81b6399f-0eb5-45e9-b8f1-8401f9dd6ff8",
   "metadata": {
    "execution": {
     "iopub.execute_input": "2024-09-10T13:03:34.149634Z",
     "iopub.status.busy": "2024-09-10T13:03:34.148634Z",
     "iopub.status.idle": "2024-09-10T13:03:34.156066Z",
     "shell.execute_reply": "2024-09-10T13:03:34.155051Z",
     "shell.execute_reply.started": "2024-09-10T13:03:34.149634Z"
    }
   },
   "outputs": [],
   "source": [
    "def say_something(something):\n",
    "    def say():\n",
    "        print(something)\n",
    "    return say"
   ]
  },
  {
   "cell_type": "code",
   "execution_count": 55,
   "id": "bab0a4c1-3ae7-468e-bfd3-df67fce64534",
   "metadata": {
    "execution": {
     "iopub.execute_input": "2024-09-10T13:05:12.636182Z",
     "iopub.status.busy": "2024-09-10T13:05:12.636182Z",
     "iopub.status.idle": "2024-09-10T13:05:12.643934Z",
     "shell.execute_reply": "2024-09-10T13:05:12.641919Z",
     "shell.execute_reply.started": "2024-09-10T13:05:12.636182Z"
    }
   },
   "outputs": [],
   "source": [
    "say_something_closure = say_something(\"Hello, I'm a function!!!\")"
   ]
  },
  {
   "cell_type": "code",
   "execution_count": 56,
   "id": "ab2a954a-bb91-44b8-a399-a0fbda3ba2cc",
   "metadata": {
    "execution": {
     "iopub.execute_input": "2024-09-10T13:05:20.064147Z",
     "iopub.status.busy": "2024-09-10T13:05:20.063144Z",
     "iopub.status.idle": "2024-09-10T13:05:20.071253Z",
     "shell.execute_reply": "2024-09-10T13:05:20.070240Z",
     "shell.execute_reply.started": "2024-09-10T13:05:20.064147Z"
    }
   },
   "outputs": [
    {
     "name": "stdout",
     "output_type": "stream",
     "text": [
      "Hello, I'm a function!!!\n"
     ]
    }
   ],
   "source": [
    "say_something_closure()"
   ]
  },
  {
   "cell_type": "code",
   "execution_count": 57,
   "id": "68f95e8d-51df-4bcd-af04-34529a9c2e5e",
   "metadata": {
    "execution": {
     "iopub.execute_input": "2024-09-10T13:06:38.749752Z",
     "iopub.status.busy": "2024-09-10T13:06:38.748742Z",
     "iopub.status.idle": "2024-09-10T13:06:38.758216Z",
     "shell.execute_reply": "2024-09-10T13:06:38.756167Z",
     "shell.execute_reply.started": "2024-09-10T13:06:38.749752Z"
    }
   },
   "outputs": [],
   "source": [
    "def say_more(first, second):\n",
    "    def say_again():\n",
    "        print(first)\n",
    "        print(second)\n",
    "    return say_again"
   ]
  },
  {
   "cell_type": "code",
   "execution_count": 58,
   "id": "4b10a80a-2f20-429a-b21d-389ceac8f8ba",
   "metadata": {
    "execution": {
     "iopub.execute_input": "2024-09-10T13:07:31.935557Z",
     "iopub.status.busy": "2024-09-10T13:07:31.934550Z",
     "iopub.status.idle": "2024-09-10T13:07:31.941743Z",
     "shell.execute_reply": "2024-09-10T13:07:31.940721Z",
     "shell.execute_reply.started": "2024-09-10T13:07:31.935557Z"
    }
   },
   "outputs": [],
   "source": [
    "say_more_closure = say_more(\"I'm so happy\", \"Python is amazing!!!\")"
   ]
  },
  {
   "cell_type": "code",
   "execution_count": 59,
   "id": "19c9b035-8bae-4f33-bb97-3b93d5116e30",
   "metadata": {
    "execution": {
     "iopub.execute_input": "2024-09-10T13:07:39.053881Z",
     "iopub.status.busy": "2024-09-10T13:07:39.053881Z",
     "iopub.status.idle": "2024-09-10T13:07:39.062834Z",
     "shell.execute_reply": "2024-09-10T13:07:39.060810Z",
     "shell.execute_reply.started": "2024-09-10T13:07:39.053881Z"
    }
   },
   "outputs": [
    {
     "name": "stdout",
     "output_type": "stream",
     "text": [
      "I'm so happy\n",
      "Python is amazing!!!\n"
     ]
    }
   ],
   "source": [
    "say_more_closure()"
   ]
  },
  {
   "cell_type": "code",
   "execution_count": 60,
   "id": "d5baa9fa-54bc-4926-92d7-9d2d2d9e3e78",
   "metadata": {
    "execution": {
     "iopub.execute_input": "2024-09-10T13:09:05.199880Z",
     "iopub.status.busy": "2024-09-10T13:09:05.198875Z",
     "iopub.status.idle": "2024-09-10T13:09:05.206313Z",
     "shell.execute_reply": "2024-09-10T13:09:05.205296Z",
     "shell.execute_reply.started": "2024-09-10T13:09:05.199880Z"
    }
   },
   "outputs": [],
   "source": [
    "del say_more_closure"
   ]
  },
  {
   "cell_type": "code",
   "execution_count": 61,
   "id": "e9bef3e5-7770-4367-8912-28c1eeb02233",
   "metadata": {
    "execution": {
     "iopub.execute_input": "2024-09-10T13:09:12.169421Z",
     "iopub.status.busy": "2024-09-10T13:09:12.168415Z",
     "iopub.status.idle": "2024-09-10T13:09:12.199929Z",
     "shell.execute_reply": "2024-09-10T13:09:12.197903Z",
     "shell.execute_reply.started": "2024-09-10T13:09:12.169421Z"
    }
   },
   "outputs": [
    {
     "ename": "NameError",
     "evalue": "name 'say_more_closure' is not defined",
     "output_type": "error",
     "traceback": [
      "\u001b[1;31m---------------------------------------------------------------------------\u001b[0m",
      "\u001b[1;31mNameError\u001b[0m                                 Traceback (most recent call last)",
      "Cell \u001b[1;32mIn[61], line 1\u001b[0m\n\u001b[1;32m----> 1\u001b[0m \u001b[43msay_more_closure\u001b[49m()\n",
      "\u001b[1;31mNameError\u001b[0m: name 'say_more_closure' is not defined"
     ]
    }
   ],
   "source": [
    "say_more_closure()"
   ]
  },
  {
   "cell_type": "code",
   "execution_count": 63,
   "id": "aa810467-2f2f-4330-88af-507968f5ed53",
   "metadata": {
    "execution": {
     "iopub.execute_input": "2024-09-10T13:14:25.273381Z",
     "iopub.status.busy": "2024-09-10T13:14:25.272383Z",
     "iopub.status.idle": "2024-09-10T13:14:25.280564Z",
     "shell.execute_reply": "2024-09-10T13:14:25.279535Z",
     "shell.execute_reply.started": "2024-09-10T13:14:25.273381Z"
    }
   },
   "outputs": [],
   "source": [
    "def segment_length(b, a):\n",
    "    def divide(n):\n",
    "        return (b-a)/n\n",
    "    return divide"
   ]
  },
  {
   "cell_type": "code",
   "execution_count": 64,
   "id": "ec797be7-2e91-4b5f-b08c-d5766f0a6385",
   "metadata": {
    "execution": {
     "iopub.execute_input": "2024-09-10T13:15:25.852352Z",
     "iopub.status.busy": "2024-09-10T13:15:25.852352Z",
     "iopub.status.idle": "2024-09-10T13:15:25.858874Z",
     "shell.execute_reply": "2024-09-10T13:15:25.857883Z",
     "shell.execute_reply.started": "2024-09-10T13:15:25.852352Z"
    }
   },
   "outputs": [],
   "source": [
    "find_segment_length = segment_length(10, 0)"
   ]
  },
  {
   "cell_type": "code",
   "execution_count": 65,
   "id": "a75b3419-271f-4996-bdff-12ab922e7b69",
   "metadata": {
    "execution": {
     "iopub.execute_input": "2024-09-10T13:15:31.465558Z",
     "iopub.status.busy": "2024-09-10T13:15:31.465558Z",
     "iopub.status.idle": "2024-09-10T13:15:31.474867Z",
     "shell.execute_reply": "2024-09-10T13:15:31.473846Z",
     "shell.execute_reply.started": "2024-09-10T13:15:31.465558Z"
    }
   },
   "outputs": [
    {
     "data": {
      "text/plain": [
       "2.0"
      ]
     },
     "execution_count": 65,
     "metadata": {},
     "output_type": "execute_result"
    }
   ],
   "source": [
    "find_segment_length(5)"
   ]
  },
  {
   "cell_type": "code",
   "execution_count": 66,
   "id": "72d1a268-c539-4f59-9044-398e1edb0063",
   "metadata": {
    "execution": {
     "iopub.execute_input": "2024-09-10T13:15:42.343016Z",
     "iopub.status.busy": "2024-09-10T13:15:42.341993Z",
     "iopub.status.idle": "2024-09-10T13:15:42.353067Z",
     "shell.execute_reply": "2024-09-10T13:15:42.352037Z",
     "shell.execute_reply.started": "2024-09-10T13:15:42.343016Z"
    }
   },
   "outputs": [
    {
     "data": {
      "text/plain": [
       "0.1"
      ]
     },
     "execution_count": 66,
     "metadata": {},
     "output_type": "execute_result"
    }
   ],
   "source": [
    "find_segment_length(100)"
   ]
  },
  {
   "cell_type": "code",
   "execution_count": null,
   "id": "e9cef12e-8c84-4de9-aaea-43bc0971de8f",
   "metadata": {},
   "outputs": [],
   "source": []
  }
 ],
 "metadata": {
  "kernelspec": {
   "display_name": "Python 3 (ipykernel)",
   "language": "python",
   "name": "python3"
  },
  "language_info": {
   "codemirror_mode": {
    "name": "ipython",
    "version": 3
   },
   "file_extension": ".py",
   "mimetype": "text/x-python",
   "name": "python",
   "nbconvert_exporter": "python",
   "pygments_lexer": "ipython3",
   "version": "3.12.5"
  }
 },
 "nbformat": 4,
 "nbformat_minor": 5
}
