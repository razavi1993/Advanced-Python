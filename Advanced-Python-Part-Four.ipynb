{
 "cells": [
  {
   "cell_type": "code",
   "execution_count": 1,
   "id": "4d86ab5d-d5ec-4d4a-80ab-01f945098f07",
   "metadata": {
    "execution": {
     "iopub.execute_input": "2024-09-10T15:48:16.979641Z",
     "iopub.status.busy": "2024-09-10T15:48:16.978642Z",
     "iopub.status.idle": "2024-09-10T15:48:16.987226Z",
     "shell.execute_reply": "2024-09-10T15:48:16.986210Z",
     "shell.execute_reply.started": "2024-09-10T15:48:16.979641Z"
    }
   },
   "outputs": [],
   "source": [
    "players = {\"football\": 5, \"basketball\": 3, \"handball\": 5}"
   ]
  },
  {
   "cell_type": "code",
   "execution_count": 2,
   "id": "e70a3b4e-77bd-44f0-8603-2ecf3caf6231",
   "metadata": {
    "execution": {
     "iopub.execute_input": "2024-09-10T15:48:17.940017Z",
     "iopub.status.busy": "2024-09-10T15:48:17.939018Z",
     "iopub.status.idle": "2024-09-10T15:48:17.954246Z",
     "shell.execute_reply": "2024-09-10T15:48:17.953232Z",
     "shell.execute_reply.started": "2024-09-10T15:48:17.940017Z"
    }
   },
   "outputs": [
    {
     "data": {
      "text/plain": [
       "5"
      ]
     },
     "execution_count": 2,
     "metadata": {},
     "output_type": "execute_result"
    }
   ],
   "source": [
    "players.get(\"football\")"
   ]
  },
  {
   "cell_type": "code",
   "execution_count": 3,
   "id": "8a3982bf-1daa-4a0b-9279-42f8331b6428",
   "metadata": {
    "execution": {
     "iopub.execute_input": "2024-09-10T15:48:18.719563Z",
     "iopub.status.busy": "2024-09-10T15:48:18.718564Z",
     "iopub.status.idle": "2024-09-10T15:48:18.727676Z",
     "shell.execute_reply": "2024-09-10T15:48:18.726652Z",
     "shell.execute_reply.started": "2024-09-10T15:48:18.719563Z"
    }
   },
   "outputs": [
    {
     "name": "stdout",
     "output_type": "stream",
     "text": [
      "None\n"
     ]
    }
   ],
   "source": [
    "print(players.get(\"wrestling\"))"
   ]
  },
  {
   "cell_type": "code",
   "execution_count": 4,
   "id": "ae04294b-7094-4ecf-9b6c-8d5c24d2f09f",
   "metadata": {
    "execution": {
     "iopub.execute_input": "2024-09-10T15:48:19.491773Z",
     "iopub.status.busy": "2024-09-10T15:48:19.490773Z",
     "iopub.status.idle": "2024-09-10T15:48:19.500637Z",
     "shell.execute_reply": "2024-09-10T15:48:19.499609Z",
     "shell.execute_reply.started": "2024-09-10T15:48:19.490773Z"
    }
   },
   "outputs": [
    {
     "data": {
      "text/plain": [
       "6"
      ]
     },
     "execution_count": 4,
     "metadata": {},
     "output_type": "execute_result"
    }
   ],
   "source": [
    "players.setdefault(\"wrestling\", 6)"
   ]
  },
  {
   "cell_type": "code",
   "execution_count": 5,
   "id": "99c479ec-2d48-4091-93dc-4137d2ce1646",
   "metadata": {
    "execution": {
     "iopub.execute_input": "2024-09-10T15:48:20.126446Z",
     "iopub.status.busy": "2024-09-10T15:48:20.125434Z",
     "iopub.status.idle": "2024-09-10T15:48:20.135550Z",
     "shell.execute_reply": "2024-09-10T15:48:20.134534Z",
     "shell.execute_reply.started": "2024-09-10T15:48:20.126446Z"
    }
   },
   "outputs": [
    {
     "data": {
      "text/plain": [
       "{'football': 5, 'basketball': 3, 'handball': 5, 'wrestling': 6}"
      ]
     },
     "execution_count": 5,
     "metadata": {},
     "output_type": "execute_result"
    }
   ],
   "source": [
    "players"
   ]
  },
  {
   "cell_type": "code",
   "execution_count": 6,
   "id": "16026254-112b-4cc0-b5ca-227882211d5a",
   "metadata": {
    "execution": {
     "iopub.execute_input": "2024-09-10T15:48:21.273552Z",
     "iopub.status.busy": "2024-09-10T15:48:21.272554Z",
     "iopub.status.idle": "2024-09-10T15:48:21.281062Z",
     "shell.execute_reply": "2024-09-10T15:48:21.279043Z",
     "shell.execute_reply.started": "2024-09-10T15:48:21.273552Z"
    }
   },
   "outputs": [],
   "source": [
    "cities_list = [\"Berlin\", \"London\", \"Paris\"]"
   ]
  },
  {
   "cell_type": "code",
   "execution_count": 7,
   "id": "ca1bd9bd-525f-45e0-9862-550ab05975e1",
   "metadata": {
    "execution": {
     "iopub.execute_input": "2024-09-10T15:48:22.454828Z",
     "iopub.status.busy": "2024-09-10T15:48:22.453841Z",
     "iopub.status.idle": "2024-09-10T15:48:22.462836Z",
     "shell.execute_reply": "2024-09-10T15:48:22.461812Z",
     "shell.execute_reply.started": "2024-09-10T15:48:22.454828Z"
    }
   },
   "outputs": [],
   "source": [
    "programmers = dict()\n",
    "for city in cities_list:\n",
    "    programmers[city] = programmers.setdefault(city, 0) + 1"
   ]
  },
  {
   "cell_type": "code",
   "execution_count": 8,
   "id": "ac72c93b-24d2-4a62-8a47-ea5099508d1a",
   "metadata": {
    "execution": {
     "iopub.execute_input": "2024-09-10T15:48:23.306885Z",
     "iopub.status.busy": "2024-09-10T15:48:23.305885Z",
     "iopub.status.idle": "2024-09-10T15:48:23.316115Z",
     "shell.execute_reply": "2024-09-10T15:48:23.315086Z",
     "shell.execute_reply.started": "2024-09-10T15:48:23.306885Z"
    }
   },
   "outputs": [
    {
     "data": {
      "text/plain": [
       "{'Berlin': 1, 'London': 1, 'Paris': 1}"
      ]
     },
     "execution_count": 8,
     "metadata": {},
     "output_type": "execute_result"
    }
   ],
   "source": [
    "programmers"
   ]
  },
  {
   "cell_type": "code",
   "execution_count": 9,
   "id": "09dd6caf-051f-4ab0-bf8e-7daa79ddd488",
   "metadata": {
    "execution": {
     "iopub.execute_input": "2024-09-10T15:48:24.290126Z",
     "iopub.status.busy": "2024-09-10T15:48:24.289127Z",
     "iopub.status.idle": "2024-09-10T15:48:24.297409Z",
     "shell.execute_reply": "2024-09-10T15:48:24.296387Z",
     "shell.execute_reply.started": "2024-09-10T15:48:24.290126Z"
    }
   },
   "outputs": [],
   "source": [
    "def wrap_it(func):\n",
    "    def inner():\n",
    "        print(\"Decorators are fun!\")\n",
    "        func()\n",
    "    return inner"
   ]
  },
  {
   "cell_type": "code",
   "execution_count": 10,
   "id": "891045af-91ea-41ba-96c9-047e112b45f8",
   "metadata": {
    "execution": {
     "iopub.execute_input": "2024-09-10T15:48:25.043861Z",
     "iopub.status.busy": "2024-09-10T15:48:25.042872Z",
     "iopub.status.idle": "2024-09-10T15:48:25.051867Z",
     "shell.execute_reply": "2024-09-10T15:48:25.049847Z",
     "shell.execute_reply.started": "2024-09-10T15:48:25.043861Z"
    }
   },
   "outputs": [],
   "source": [
    "def hello_world():\n",
    "    print(\"Hello World\") "
   ]
  },
  {
   "cell_type": "code",
   "execution_count": 11,
   "id": "730dbcce-a011-4a32-b1ff-538333098289",
   "metadata": {
    "execution": {
     "iopub.execute_input": "2024-09-10T15:48:25.653939Z",
     "iopub.status.busy": "2024-09-10T15:48:25.652940Z",
     "iopub.status.idle": "2024-09-10T15:48:25.659936Z",
     "shell.execute_reply": "2024-09-10T15:48:25.658917Z",
     "shell.execute_reply.started": "2024-09-10T15:48:25.653939Z"
    }
   },
   "outputs": [],
   "source": [
    "decorator_hello_world = wrap_it(hello_world)"
   ]
  },
  {
   "cell_type": "code",
   "execution_count": 12,
   "id": "aa6e7e0d-ed98-431b-beb1-dc0d894d4895",
   "metadata": {
    "execution": {
     "iopub.execute_input": "2024-09-10T15:48:26.267972Z",
     "iopub.status.busy": "2024-09-10T15:48:26.266973Z",
     "iopub.status.idle": "2024-09-10T15:48:26.274999Z",
     "shell.execute_reply": "2024-09-10T15:48:26.273975Z",
     "shell.execute_reply.started": "2024-09-10T15:48:26.267972Z"
    }
   },
   "outputs": [
    {
     "name": "stdout",
     "output_type": "stream",
     "text": [
      "Decorators are fun!\n",
      "Hello World\n"
     ]
    }
   ],
   "source": [
    "decorator_hello_world()"
   ]
  },
  {
   "cell_type": "code",
   "execution_count": 13,
   "id": "1f23b4ea-a5b9-42d7-b203-7341f76ebf8b",
   "metadata": {
    "execution": {
     "iopub.execute_input": "2024-09-10T15:48:26.642227Z",
     "iopub.status.busy": "2024-09-10T15:48:26.641231Z",
     "iopub.status.idle": "2024-09-10T15:48:26.651614Z",
     "shell.execute_reply": "2024-09-10T15:48:26.649570Z",
     "shell.execute_reply.started": "2024-09-10T15:48:26.642227Z"
    }
   },
   "outputs": [],
   "source": [
    "def wrap_it(func):\n",
    "    def inner(a, b):\n",
    "        if type(a) == str or type(b) == str:\n",
    "            print(\"Can't perform math operation on string\")\n",
    "            return \n",
    "        else:\n",
    "            return func(a, b)\n",
    "    return inner"
   ]
  },
  {
   "cell_type": "code",
   "execution_count": 14,
   "id": "4c0fd8dc-0c7f-425c-8c35-7a44dc1f98fe",
   "metadata": {
    "execution": {
     "iopub.execute_input": "2024-09-10T15:48:27.244161Z",
     "iopub.status.busy": "2024-09-10T15:48:27.243184Z",
     "iopub.status.idle": "2024-09-10T15:48:27.250757Z",
     "shell.execute_reply": "2024-09-10T15:48:27.249731Z",
     "shell.execute_reply.started": "2024-09-10T15:48:27.244161Z"
    }
   },
   "outputs": [],
   "source": [
    "@wrap_it\n",
    "def minus(a, b):\n",
    "    return a - b"
   ]
  },
  {
   "cell_type": "code",
   "execution_count": 15,
   "id": "6667f404-df3b-4835-a687-8e86e43241e9",
   "metadata": {
    "execution": {
     "iopub.execute_input": "2024-09-10T15:48:27.681907Z",
     "iopub.status.busy": "2024-09-10T15:48:27.680908Z",
     "iopub.status.idle": "2024-09-10T15:48:27.690273Z",
     "shell.execute_reply": "2024-09-10T15:48:27.689246Z",
     "shell.execute_reply.started": "2024-09-10T15:48:27.681907Z"
    }
   },
   "outputs": [
    {
     "data": {
      "text/plain": [
       "-1"
      ]
     },
     "execution_count": 15,
     "metadata": {},
     "output_type": "execute_result"
    }
   ],
   "source": [
    "minus(3,4)"
   ]
  },
  {
   "cell_type": "code",
   "execution_count": 16,
   "id": "e92fa746-a39a-45da-8dcd-4313a70a8a4b",
   "metadata": {
    "execution": {
     "iopub.execute_input": "2024-09-10T15:48:28.101421Z",
     "iopub.status.busy": "2024-09-10T15:48:28.100422Z",
     "iopub.status.idle": "2024-09-10T15:48:28.109597Z",
     "shell.execute_reply": "2024-09-10T15:48:28.108571Z",
     "shell.execute_reply.started": "2024-09-10T15:48:28.101421Z"
    }
   },
   "outputs": [
    {
     "name": "stdout",
     "output_type": "stream",
     "text": [
      "Can't perform math operation on string\n"
     ]
    }
   ],
   "source": [
    "minus(\"x\", 5)"
   ]
  },
  {
   "cell_type": "code",
   "execution_count": 17,
   "id": "80d2be6c-67a0-43a1-8f5b-d2a807e77171",
   "metadata": {
    "execution": {
     "iopub.execute_input": "2024-09-10T15:48:28.609411Z",
     "iopub.status.busy": "2024-09-10T15:48:28.608427Z",
     "iopub.status.idle": "2024-09-10T15:48:28.617656Z",
     "shell.execute_reply": "2024-09-10T15:48:28.616612Z",
     "shell.execute_reply.started": "2024-09-10T15:48:28.609411Z"
    }
   },
   "outputs": [],
   "source": [
    "def check_positive(func):\n",
    "    def inner(x):\n",
    "        if x < 0:\n",
    "            print(\"Can't evaluate on negative numbers\")\n",
    "            return\n",
    "        else:\n",
    "            return func(x)\n",
    "    return inner"
   ]
  },
  {
   "cell_type": "code",
   "execution_count": 18,
   "id": "d768e6ac-c35f-43a9-99ad-e16624a9045a",
   "metadata": {
    "execution": {
     "iopub.execute_input": "2024-09-10T15:48:29.112317Z",
     "iopub.status.busy": "2024-09-10T15:48:29.111317Z",
     "iopub.status.idle": "2024-09-10T15:48:29.118701Z",
     "shell.execute_reply": "2024-09-10T15:48:29.117683Z",
     "shell.execute_reply.started": "2024-09-10T15:48:29.112317Z"
    }
   },
   "outputs": [],
   "source": [
    "from math import sqrt"
   ]
  },
  {
   "cell_type": "code",
   "execution_count": 19,
   "id": "a3231dac-15d5-4158-ae6f-639c6851259d",
   "metadata": {
    "execution": {
     "iopub.execute_input": "2024-09-10T15:48:29.636107Z",
     "iopub.status.busy": "2024-09-10T15:48:29.635123Z",
     "iopub.status.idle": "2024-09-10T15:48:29.644275Z",
     "shell.execute_reply": "2024-09-10T15:48:29.642231Z",
     "shell.execute_reply.started": "2024-09-10T15:48:29.636107Z"
    }
   },
   "outputs": [],
   "source": [
    "@check_positive\n",
    "def f(x):\n",
    "    return x**2+1"
   ]
  },
  {
   "cell_type": "code",
   "execution_count": 20,
   "id": "b40d5d41-540f-442f-b91e-172addf84724",
   "metadata": {
    "execution": {
     "iopub.execute_input": "2024-09-10T15:48:30.085423Z",
     "iopub.status.busy": "2024-09-10T15:48:30.084423Z",
     "iopub.status.idle": "2024-09-10T15:48:30.093048Z",
     "shell.execute_reply": "2024-09-10T15:48:30.091004Z",
     "shell.execute_reply.started": "2024-09-10T15:48:30.085423Z"
    }
   },
   "outputs": [
    {
     "name": "stdout",
     "output_type": "stream",
     "text": [
      "Can't evaluate on negative numbers\n"
     ]
    }
   ],
   "source": [
    "f(-4)"
   ]
  },
  {
   "cell_type": "code",
   "execution_count": 21,
   "id": "9c00042a-b884-4ff8-b39a-87c3aea1d309",
   "metadata": {
    "execution": {
     "iopub.execute_input": "2024-09-10T15:48:30.544267Z",
     "iopub.status.busy": "2024-09-10T15:48:30.543283Z",
     "iopub.status.idle": "2024-09-10T15:48:30.550939Z",
     "shell.execute_reply": "2024-09-10T15:48:30.549912Z",
     "shell.execute_reply.started": "2024-09-10T15:48:30.544267Z"
    }
   },
   "outputs": [],
   "source": [
    "import time"
   ]
  },
  {
   "cell_type": "code",
   "execution_count": 22,
   "id": "57cef50f-d16a-4366-9a85-bbd339a5f844",
   "metadata": {
    "execution": {
     "iopub.execute_input": "2024-09-10T15:48:31.023339Z",
     "iopub.status.busy": "2024-09-10T15:48:31.022339Z",
     "iopub.status.idle": "2024-09-10T15:48:31.030748Z",
     "shell.execute_reply": "2024-09-10T15:48:31.029725Z",
     "shell.execute_reply.started": "2024-09-10T15:48:31.023339Z"
    }
   },
   "outputs": [],
   "source": [
    "def wrap_it(func):\n",
    "    def inner(*args, **kwargs):\n",
    "        start = time.time()\n",
    "        func(*args, **kwargs)\n",
    "        execution_time = time.time() - start\n",
    "        print(f\"Execution time is {execution_time}\")\n",
    "    return inner"
   ]
  },
  {
   "cell_type": "code",
   "execution_count": 23,
   "id": "876b46c6-5b3d-4453-9045-73f8dd602a7a",
   "metadata": {
    "execution": {
     "iopub.execute_input": "2024-09-10T15:48:31.549559Z",
     "iopub.status.busy": "2024-09-10T15:48:31.548560Z",
     "iopub.status.idle": "2024-09-10T15:48:31.556644Z",
     "shell.execute_reply": "2024-09-10T15:48:31.555618Z",
     "shell.execute_reply.started": "2024-09-10T15:48:31.549559Z"
    }
   },
   "outputs": [],
   "source": [
    "@wrap_it\n",
    "def operations(a, b, c, d):\n",
    "    s = a+b+c+d\n",
    "    s = s**2\n",
    "    s /= a*b*c*d\n",
    "    print(s)"
   ]
  },
  {
   "cell_type": "code",
   "execution_count": 24,
   "id": "58f1fda6-2005-44a9-8b10-ff21d2fbbb83",
   "metadata": {
    "execution": {
     "iopub.execute_input": "2024-09-10T15:48:31.993600Z",
     "iopub.status.busy": "2024-09-10T15:48:31.992596Z",
     "iopub.status.idle": "2024-09-10T15:48:32.002320Z",
     "shell.execute_reply": "2024-09-10T15:48:32.000305Z",
     "shell.execute_reply.started": "2024-09-10T15:48:31.993600Z"
    }
   },
   "outputs": [
    {
     "name": "stdout",
     "output_type": "stream",
     "text": [
      "0.81\n",
      "Execution time is 0.0010013580322265625\n"
     ]
    }
   ],
   "source": [
    "operations(4,5,5,4)"
   ]
  },
  {
   "cell_type": "code",
   "execution_count": 28,
   "id": "288d0fac-3c43-4fda-b2bf-5d84bb924b68",
   "metadata": {
    "execution": {
     "iopub.execute_input": "2024-09-10T15:48:37.323301Z",
     "iopub.status.busy": "2024-09-10T15:48:37.322310Z",
     "iopub.status.idle": "2024-09-10T15:48:37.331416Z",
     "shell.execute_reply": "2024-09-10T15:48:37.330387Z",
     "shell.execute_reply.started": "2024-09-10T15:48:37.323301Z"
    }
   },
   "outputs": [],
   "source": [
    "@wrap_it\n",
    "def another_operations(x, y, z):\n",
    "    r = x*y/z\n",
    "    r /= (1+r**4)\n",
    "    r *= (x**2+z**2)\n",
    "    print(r)"
   ]
  },
  {
   "cell_type": "code",
   "execution_count": 29,
   "id": "a4674880-a7ea-4cc8-b2be-e8cf2c1a8661",
   "metadata": {
    "execution": {
     "iopub.execute_input": "2024-09-10T15:48:37.710253Z",
     "iopub.status.busy": "2024-09-10T15:48:37.709254Z",
     "iopub.status.idle": "2024-09-10T15:48:37.718430Z",
     "shell.execute_reply": "2024-09-10T15:48:37.716413Z",
     "shell.execute_reply.started": "2024-09-10T15:48:37.710253Z"
    }
   },
   "outputs": [
    {
     "name": "stdout",
     "output_type": "stream",
     "text": [
      "2.3875286737512287\n",
      "Execution time is 0.0010020732879638672\n"
     ]
    }
   ],
   "source": [
    "another_operations(3,4,5)"
   ]
  },
  {
   "cell_type": "code",
   "execution_count": 30,
   "id": "7f02c38d-6a58-4e02-a20b-e65e467cb2e8",
   "metadata": {
    "execution": {
     "iopub.execute_input": "2024-09-10T15:48:38.524573Z",
     "iopub.status.busy": "2024-09-10T15:48:38.523575Z",
     "iopub.status.idle": "2024-09-10T15:48:38.532519Z",
     "shell.execute_reply": "2024-09-10T15:48:38.530501Z",
     "shell.execute_reply.started": "2024-09-10T15:48:38.524573Z"
    }
   },
   "outputs": [],
   "source": [
    "def first(func):\n",
    "    def inner(*args, **kwargs):\n",
    "        print(\"First decorator start\")\n",
    "        func(*args, **kwargs)\n",
    "        print(\"First decorator end\")\n",
    "    return inner"
   ]
  },
  {
   "cell_type": "code",
   "execution_count": 31,
   "id": "90dff843-de19-4a92-9cd2-597296878098",
   "metadata": {
    "execution": {
     "iopub.execute_input": "2024-09-10T15:48:39.044625Z",
     "iopub.status.busy": "2024-09-10T15:48:39.043618Z",
     "iopub.status.idle": "2024-09-10T15:48:39.051549Z",
     "shell.execute_reply": "2024-09-10T15:48:39.050522Z",
     "shell.execute_reply.started": "2024-09-10T15:48:39.044625Z"
    }
   },
   "outputs": [],
   "source": [
    "def second(func):\n",
    "    def inner(*args, **kwargs):\n",
    "        print(\"Second decorator start\")\n",
    "        func(*args, **kwargs)\n",
    "        print(\"Second decorator end\")\n",
    "    return inner"
   ]
  },
  {
   "cell_type": "code",
   "execution_count": 32,
   "id": "f590a204-a070-4531-ad13-636177347476",
   "metadata": {
    "execution": {
     "iopub.execute_input": "2024-09-10T15:48:39.690393Z",
     "iopub.status.busy": "2024-09-10T15:48:39.689395Z",
     "iopub.status.idle": "2024-09-10T15:48:39.697307Z",
     "shell.execute_reply": "2024-09-10T15:48:39.696290Z",
     "shell.execute_reply.started": "2024-09-10T15:48:39.690393Z"
    }
   },
   "outputs": [],
   "source": [
    "@second\n",
    "@first\n",
    "def hello():\n",
    "    print(\"Hello World\")"
   ]
  },
  {
   "cell_type": "code",
   "execution_count": 33,
   "id": "c43fd122-f818-4a56-a37b-2e5eacd7395c",
   "metadata": {
    "execution": {
     "iopub.execute_input": "2024-09-10T15:48:40.287847Z",
     "iopub.status.busy": "2024-09-10T15:48:40.286867Z",
     "iopub.status.idle": "2024-09-10T15:48:40.295569Z",
     "shell.execute_reply": "2024-09-10T15:48:40.294553Z",
     "shell.execute_reply.started": "2024-09-10T15:48:40.287847Z"
    }
   },
   "outputs": [
    {
     "name": "stdout",
     "output_type": "stream",
     "text": [
      "Second decorator start\n",
      "First decorator start\n",
      "Hello World\n",
      "First decorator end\n",
      "Second decorator end\n"
     ]
    }
   ],
   "source": [
    "hello()"
   ]
  },
  {
   "cell_type": "code",
   "execution_count": null,
   "id": "8e941fdf-810c-4fdf-a438-26abbb6880a9",
   "metadata": {},
   "outputs": [],
   "source": []
  },
  {
   "cell_type": "code",
   "execution_count": null,
   "id": "ecac410a-5bf1-4059-aa0e-5829c1444465",
   "metadata": {},
   "outputs": [],
   "source": []
  }
 ],
 "metadata": {
  "kernelspec": {
   "display_name": "Python 3 (ipykernel)",
   "language": "python",
   "name": "python3"
  },
  "language_info": {
   "codemirror_mode": {
    "name": "ipython",
    "version": 3
   },
   "file_extension": ".py",
   "mimetype": "text/x-python",
   "name": "python",
   "nbconvert_exporter": "python",
   "pygments_lexer": "ipython3",
   "version": "3.12.5"
  }
 },
 "nbformat": 4,
 "nbformat_minor": 5
}
