{
 "cells": [
  {
   "cell_type": "code",
   "execution_count": 1,
   "id": "2b61d7ff-cfc6-4a3a-80dc-7b529daafd31",
   "metadata": {
    "execution": {
     "iopub.execute_input": "2024-09-11T16:17:21.447796Z",
     "iopub.status.busy": "2024-09-11T16:17:21.446795Z",
     "iopub.status.idle": "2024-09-11T16:17:21.458893Z",
     "shell.execute_reply": "2024-09-11T16:17:21.456879Z",
     "shell.execute_reply.started": "2024-09-11T16:17:21.447796Z"
    }
   },
   "outputs": [],
   "source": [
    "class NewList:\n",
    "    def __init__(self, *args):\n",
    "        self.data = args\n",
    "    def map(self, func):\n",
    "        mapped_data = [func(element) for element in self.data]\n",
    "        return NewList(*mapped_data)\n",
    "    def filter(self, func):\n",
    "        filtered_data = [element for element in self.data if func(element) == True]\n",
    "        return NewList(*filtered_data)"
   ]
  },
  {
   "cell_type": "code",
   "execution_count": 2,
   "id": "a3f5a333-981b-43ed-885a-97d7b70e8b09",
   "metadata": {
    "execution": {
     "iopub.execute_input": "2024-09-11T16:17:21.911182Z",
     "iopub.status.busy": "2024-09-11T16:17:21.910181Z",
     "iopub.status.idle": "2024-09-11T16:17:21.917907Z",
     "shell.execute_reply": "2024-09-11T16:17:21.916884Z",
     "shell.execute_reply.started": "2024-09-11T16:17:21.911182Z"
    }
   },
   "outputs": [],
   "source": [
    "newlist = NewList(1,2,3,4,5)"
   ]
  },
  {
   "cell_type": "code",
   "execution_count": 3,
   "id": "40b8a5af-f843-4c7a-ac0d-fcc5c8949581",
   "metadata": {
    "execution": {
     "iopub.execute_input": "2024-09-11T16:17:22.322002Z",
     "iopub.status.busy": "2024-09-11T16:17:22.322002Z",
     "iopub.status.idle": "2024-09-11T16:17:22.335898Z",
     "shell.execute_reply": "2024-09-11T16:17:22.333878Z",
     "shell.execute_reply.started": "2024-09-11T16:17:22.322002Z"
    }
   },
   "outputs": [
    {
     "data": {
      "text/plain": [
       "(1, 2, 3, 4, 5)"
      ]
     },
     "execution_count": 3,
     "metadata": {},
     "output_type": "execute_result"
    }
   ],
   "source": [
    "newlist.data"
   ]
  },
  {
   "cell_type": "code",
   "execution_count": 4,
   "id": "7284e8bc-a6ba-401f-815d-24ba7d769b8c",
   "metadata": {
    "execution": {
     "iopub.execute_input": "2024-09-11T16:17:22.725480Z",
     "iopub.status.busy": "2024-09-11T16:17:22.724482Z",
     "iopub.status.idle": "2024-09-11T16:17:22.732444Z",
     "shell.execute_reply": "2024-09-11T16:17:22.730425Z",
     "shell.execute_reply.started": "2024-09-11T16:17:22.724482Z"
    }
   },
   "outputs": [],
   "source": [
    "f = lambda x: x**3"
   ]
  },
  {
   "cell_type": "code",
   "execution_count": 5,
   "id": "d7946e09-7fa7-4dc1-a8ce-6bfdb63eab93",
   "metadata": {
    "execution": {
     "iopub.execute_input": "2024-09-11T16:17:23.183447Z",
     "iopub.status.busy": "2024-09-11T16:17:23.182448Z",
     "iopub.status.idle": "2024-09-11T16:17:23.192464Z",
     "shell.execute_reply": "2024-09-11T16:17:23.191449Z",
     "shell.execute_reply.started": "2024-09-11T16:17:23.183447Z"
    }
   },
   "outputs": [
    {
     "data": {
      "text/plain": [
       "(1, 8, 27, 64, 125)"
      ]
     },
     "execution_count": 5,
     "metadata": {},
     "output_type": "execute_result"
    }
   ],
   "source": [
    "newlist.map(f).data"
   ]
  },
  {
   "cell_type": "code",
   "execution_count": 6,
   "id": "f11d56e7-110c-4f49-afc9-96b30516f3e6",
   "metadata": {
    "execution": {
     "iopub.execute_input": "2024-09-11T16:17:23.591003Z",
     "iopub.status.busy": "2024-09-11T16:17:23.590005Z",
     "iopub.status.idle": "2024-09-11T16:17:23.597418Z",
     "shell.execute_reply": "2024-09-11T16:17:23.596403Z",
     "shell.execute_reply.started": "2024-09-11T16:17:23.591003Z"
    }
   },
   "outputs": [],
   "source": [
    "g = lambda y: y%2 == 0"
   ]
  },
  {
   "cell_type": "code",
   "execution_count": 7,
   "id": "941efe42-88a1-4ef0-a8b9-27f7d07570ce",
   "metadata": {
    "execution": {
     "iopub.execute_input": "2024-09-11T16:17:24.026932Z",
     "iopub.status.busy": "2024-09-11T16:17:24.025934Z",
     "iopub.status.idle": "2024-09-11T16:17:24.036376Z",
     "shell.execute_reply": "2024-09-11T16:17:24.034353Z",
     "shell.execute_reply.started": "2024-09-11T16:17:24.026932Z"
    }
   },
   "outputs": [
    {
     "data": {
      "text/plain": [
       "(2, 4)"
      ]
     },
     "execution_count": 7,
     "metadata": {},
     "output_type": "execute_result"
    }
   ],
   "source": [
    "newlist.filter(g).data"
   ]
  },
  {
   "cell_type": "code",
   "execution_count": 8,
   "id": "483c72f9-784b-431b-98c4-d150d8995c21",
   "metadata": {
    "execution": {
     "iopub.execute_input": "2024-09-11T16:17:24.468126Z",
     "iopub.status.busy": "2024-09-11T16:17:24.467128Z",
     "iopub.status.idle": "2024-09-11T16:17:24.475865Z",
     "shell.execute_reply": "2024-09-11T16:17:24.474848Z",
     "shell.execute_reply.started": "2024-09-11T16:17:24.468126Z"
    }
   },
   "outputs": [],
   "source": [
    "class AnotherList:\n",
    "    def __init__(self, *args):\n",
    "        self.data = args\n",
    "    def __add__(self, other):\n",
    "        return self.data + other.data\n",
    "    def __eq__(self, other):\n",
    "        return self.data == other.data"
   ]
  },
  {
   "cell_type": "code",
   "execution_count": 9,
   "id": "c38351d8-fb45-4e03-bba3-ea0e42e5d5c1",
   "metadata": {
    "execution": {
     "iopub.execute_input": "2024-09-11T16:17:24.948390Z",
     "iopub.status.busy": "2024-09-11T16:17:24.947391Z",
     "iopub.status.idle": "2024-09-11T16:17:24.955771Z",
     "shell.execute_reply": "2024-09-11T16:17:24.953758Z",
     "shell.execute_reply.started": "2024-09-11T16:17:24.948390Z"
    }
   },
   "outputs": [],
   "source": [
    "alist1 = AnotherList(1,2,3,4,5)"
   ]
  },
  {
   "cell_type": "code",
   "execution_count": 10,
   "id": "0d4e693a-38cc-4a06-8d4a-fbff9b5a8551",
   "metadata": {
    "execution": {
     "iopub.execute_input": "2024-09-11T16:17:25.351578Z",
     "iopub.status.busy": "2024-09-11T16:17:25.350579Z",
     "iopub.status.idle": "2024-09-11T16:17:25.358096Z",
     "shell.execute_reply": "2024-09-11T16:17:25.357066Z",
     "shell.execute_reply.started": "2024-09-11T16:17:25.351578Z"
    }
   },
   "outputs": [],
   "source": [
    "alist2 = AnotherList(1,3,5,7,9)"
   ]
  },
  {
   "cell_type": "code",
   "execution_count": 11,
   "id": "f380b1bf-f163-49db-8c8f-1b0cc5388899",
   "metadata": {
    "execution": {
     "iopub.execute_input": "2024-09-11T16:17:25.784692Z",
     "iopub.status.busy": "2024-09-11T16:17:25.783715Z",
     "iopub.status.idle": "2024-09-11T16:17:25.794052Z",
     "shell.execute_reply": "2024-09-11T16:17:25.793025Z",
     "shell.execute_reply.started": "2024-09-11T16:17:25.784692Z"
    }
   },
   "outputs": [
    {
     "data": {
      "text/plain": [
       "(1, 2, 3, 4, 5, 1, 3, 5, 7, 9)"
      ]
     },
     "execution_count": 11,
     "metadata": {},
     "output_type": "execute_result"
    }
   ],
   "source": [
    "alist1+alist2"
   ]
  },
  {
   "cell_type": "code",
   "execution_count": 12,
   "id": "199dc7b2-328a-430b-b86e-e94aec89c689",
   "metadata": {
    "execution": {
     "iopub.execute_input": "2024-09-11T16:17:26.259498Z",
     "iopub.status.busy": "2024-09-11T16:17:26.258499Z",
     "iopub.status.idle": "2024-09-11T16:17:26.268665Z",
     "shell.execute_reply": "2024-09-11T16:17:26.267651Z",
     "shell.execute_reply.started": "2024-09-11T16:17:26.259498Z"
    }
   },
   "outputs": [
    {
     "data": {
      "text/plain": [
       "False"
      ]
     },
     "execution_count": 12,
     "metadata": {},
     "output_type": "execute_result"
    }
   ],
   "source": [
    "alist2 == alist1"
   ]
  },
  {
   "cell_type": "code",
   "execution_count": 13,
   "id": "4745feec-7cab-4108-8829-8a8aa75a77f5",
   "metadata": {
    "execution": {
     "iopub.execute_input": "2024-09-11T16:17:26.652338Z",
     "iopub.status.busy": "2024-09-11T16:17:26.651339Z",
     "iopub.status.idle": "2024-09-11T16:17:26.659034Z",
     "shell.execute_reply": "2024-09-11T16:17:26.658018Z",
     "shell.execute_reply.started": "2024-09-11T16:17:26.652338Z"
    }
   },
   "outputs": [],
   "source": [
    "newlist2 = NewList(1,2,3,7,5,6,4,3,8,9,7)"
   ]
  },
  {
   "cell_type": "code",
   "execution_count": 14,
   "id": "5b5c69e1-eaee-49c0-8061-315f3a5c4dbe",
   "metadata": {
    "execution": {
     "iopub.execute_input": "2024-09-11T16:17:27.097619Z",
     "iopub.status.busy": "2024-09-11T16:17:27.096618Z",
     "iopub.status.idle": "2024-09-11T16:17:27.107511Z",
     "shell.execute_reply": "2024-09-11T16:17:27.106498Z",
     "shell.execute_reply.started": "2024-09-11T16:17:27.097619Z"
    }
   },
   "outputs": [
    {
     "data": {
      "text/plain": [
       "(1, 4, 49, 25, 16, 64, 49)"
      ]
     },
     "execution_count": 14,
     "metadata": {},
     "output_type": "execute_result"
    }
   ],
   "source": [
    "newlist2.filter(lambda x: x%3 != 0).map(lambda y: y**2).data"
   ]
  },
  {
   "cell_type": "code",
   "execution_count": null,
   "id": "c0a6b9cc-ac71-4d2b-89ac-5eafaafbb151",
   "metadata": {},
   "outputs": [],
   "source": []
  }
 ],
 "metadata": {
  "kernelspec": {
   "display_name": "Python 3 (ipykernel)",
   "language": "python",
   "name": "python3"
  },
  "language_info": {
   "codemirror_mode": {
    "name": "ipython",
    "version": 3
   },
   "file_extension": ".py",
   "mimetype": "text/x-python",
   "name": "python",
   "nbconvert_exporter": "python",
   "pygments_lexer": "ipython3",
   "version": "3.12.5"
  }
 },
 "nbformat": 4,
 "nbformat_minor": 5
}
